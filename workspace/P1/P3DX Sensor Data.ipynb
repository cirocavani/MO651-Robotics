{
 "cells": [
  {
   "cell_type": "code",
   "execution_count": 1,
   "metadata": {},
   "outputs": [],
   "source": [
    "%matplotlib inline\n",
    "\n",
    "import time\n",
    "import numpy as np\n",
    "import pandas as pd\n",
    "from matplotlib import pyplot as plt"
   ]
  },
  {
   "cell_type": "code",
   "execution_count": 2,
   "metadata": {},
   "outputs": [
    {
     "name": "stdout",
     "output_type": "stream",
     "text": [
      "Connected to remoteApi server.\n",
      "\u001b[92m Pioneer_p3dx_ultrasonicSensor1 connected.\n",
      "\u001b[92m Pioneer_p3dx_ultrasonicSensor2 connected.\n",
      "\u001b[92m Pioneer_p3dx_ultrasonicSensor3 connected.\n",
      "\u001b[92m Pioneer_p3dx_ultrasonicSensor4 connected.\n",
      "\u001b[92m Pioneer_p3dx_ultrasonicSensor5 connected.\n",
      "\u001b[92m Pioneer_p3dx_ultrasonicSensor6 connected.\n",
      "\u001b[92m Pioneer_p3dx_ultrasonicSensor7 connected.\n",
      "\u001b[92m Pioneer_p3dx_ultrasonicSensor8 connected.\n",
      "\u001b[92m Pioneer_p3dx_ultrasonicSensor9 connected.\n",
      "\u001b[92m Pioneer_p3dx_ultrasonicSensor10 connected.\n",
      "\u001b[92m Pioneer_p3dx_ultrasonicSensor11 connected.\n",
      "\u001b[92m Pioneer_p3dx_ultrasonicSensor12 connected.\n",
      "\u001b[92m Pioneer_p3dx_ultrasonicSensor13 connected.\n",
      "\u001b[92m Pioneer_p3dx_ultrasonicSensor14 connected.\n",
      "\u001b[92m Pioneer_p3dx_ultrasonicSensor15 connected.\n",
      "\u001b[92m Pioneer_p3dx_ultrasonicSensor16 connected.\n",
      "\u001b[92m Vision sensor connected.\n",
      "\u001b[92m Laser connected.\n",
      "\u001b[92m Left motor connected.\n",
      "\u001b[92m Right motor connected.\n",
      "\u001b[92m Robot connected.\n"
     ]
    }
   ],
   "source": [
    "from vrep_robot.robot import Robot\n",
    "\n",
    "robot = Robot()"
   ]
  },
  {
   "cell_type": "code",
   "execution_count": 3,
   "metadata": {},
   "outputs": [
    {
     "name": "stdout",
     "output_type": "stream",
     "text": [
      "Simulation stopped...\n",
      "Simulation started...\n"
     ]
    }
   ],
   "source": [
    "import vrep\n",
    "\n",
    "def reset(robot):\n",
    "    robot.command = \"\"\n",
    "    robot.stop()\n",
    "    res = vrep.simxStopSimulation(robot.clientID, vrep.simx_opmode_oneshot_wait)\n",
    "    if res == vrep.simx_return_ok:\n",
    "        print(\"Simulation stopped...\")\n",
    "        time.sleep(1.0)\n",
    "    n = 0\n",
    "    while True:\n",
    "        n += 1\n",
    "        res = vrep.simxStartSimulation(robot.clientID, vrep.simx_opmode_oneshot_wait)\n",
    "        if res == vrep.simx_return_ok:\n",
    "            print(\"Simulation started...\")\n",
    "            break\n",
    "        time.sleep(1.0)\n",
    "        if n == 10:\n",
    "            print(\"Failed to start simulation!\")\n",
    "            break\n",
    "        print(f\"Retry {n}\")\n",
    "\n",
    "reset(robot)"
   ]
  },
  {
   "cell_type": "markdown",
   "metadata": {},
   "source": [
    "**Reading ultrasonic sensors**"
   ]
  },
  {
   "cell_type": "code",
   "execution_count": 4,
   "metadata": {},
   "outputs": [
    {
     "name": "stdout",
     "output_type": "stream",
     "text": [
      "Help on function read_ultrassonic_sensors in module vrep_robot.robot:\n",
      "\n",
      "read_ultrassonic_sensors(self)\n",
      "    Reads the distances from the 16 ultrassonic sensors.\n",
      "    Returns:\n",
      "            distances: List with the distances in meters.\n",
      "\n"
     ]
    }
   ],
   "source": [
    "help(Robot.read_ultrassonic_sensors)"
   ]
  },
  {
   "cell_type": "code",
   "execution_count": 5,
   "metadata": {},
   "outputs": [
    {
     "name": "stdout",
     "output_type": "stream",
     "text": [
      "Ultrasonic : [5.0, 5.0, 5.0, 5.0, 5.0, 5.0, 5.0, 5.0, 5.0, 0.5884585976600647, 0.4596508741378784, 0.4456547796726227, 5.0, 5.0, 5.0, 5.0]\n"
     ]
    }
   ],
   "source": [
    "ultrasonic = robot.read_ultrassonic_sensors()\n",
    "print(\"Ultrasonic :\", ultrasonic)"
   ]
  },
  {
   "cell_type": "code",
   "execution_count": 6,
   "metadata": {},
   "outputs": [
    {
     "data": {
      "text/plain": [
       "16"
      ]
     },
     "execution_count": 6,
     "metadata": {},
     "output_type": "execute_result"
    }
   ],
   "source": [
    "len(ultrasonic)"
   ]
  },
  {
   "cell_type": "code",
   "execution_count": 7,
   "metadata": {},
   "outputs": [
    {
     "data": {
      "text/plain": [
       "float"
      ]
     },
     "execution_count": 7,
     "metadata": {},
     "output_type": "execute_result"
    }
   ],
   "source": [
    "type(ultrasonic[0])"
   ]
  },
  {
   "cell_type": "markdown",
   "metadata": {},
   "source": [
    "**Reading laser sensor**"
   ]
  },
  {
   "cell_type": "code",
   "execution_count": 8,
   "metadata": {},
   "outputs": [
    {
     "name": "stdout",
     "output_type": "stream",
     "text": [
      "Help on function read_laser in module vrep_robot.robot:\n",
      "\n",
      "read_laser(self)\n",
      "    Gets the 572 points read by the laser sensor. Each reading contains 3 values (x, y, z) of the point relative to the sensor position.\n",
      "    Returns:\n",
      "            laser: List with 1716 values of x, y and z from each point.\n",
      "\n"
     ]
    }
   ],
   "source": [
    "help(Robot.read_laser)"
   ]
  },
  {
   "cell_type": "code",
   "execution_count": 9,
   "metadata": {},
   "outputs": [
    {
     "name": "stdout",
     "output_type": "stream",
     "text": [
      "Laser (10) : [-2.414750576019287, -4.182470798492432, 0.06300001591444016, -2.382589340209961, -4.185929775238037, 0.06300001591444016, -2.350986957550049, -4.190062522888184, 0.06300001591444016, -2.3106679916381836, -4.178131103515625, 0.06300000846385956, -2.2801647186279297, -4.183441162109375, 0.06300000846385956, -2.250189781188965, -4.189476013183594, 0.06300000846385956, -2.2115705013275146, -4.178945064544678, 0.06300000846385956, -2.1825220584869385, -4.1860432624816895, 0.06300000846385956, -2.1450273990631104, -4.1765031814575195, 0.06300000101327896, -2.1168618202209473, -4.184709548950195, 0.06300000101327896]\n"
     ]
    }
   ],
   "source": [
    "laser = robot.read_laser()\n",
    "print(\"Laser (10) :\", laser[:30])"
   ]
  },
  {
   "cell_type": "code",
   "execution_count": 10,
   "metadata": {},
   "outputs": [
    {
     "data": {
      "text/plain": [
       "1239"
      ]
     },
     "execution_count": 10,
     "metadata": {},
     "output_type": "execute_result"
    }
   ],
   "source": [
    "len(laser)"
   ]
  },
  {
   "cell_type": "code",
   "execution_count": 11,
   "metadata": {},
   "outputs": [
    {
     "data": {
      "text/plain": [
       "413"
      ]
     },
     "execution_count": 11,
     "metadata": {},
     "output_type": "execute_result"
    }
   ],
   "source": [
    "len(laser) // 3"
   ]
  },
  {
   "cell_type": "code",
   "execution_count": 12,
   "metadata": {},
   "outputs": [
    {
     "data": {
      "text/plain": [
       "float"
      ]
     },
     "execution_count": 12,
     "metadata": {},
     "output_type": "execute_result"
    }
   ],
   "source": [
    "type(laser[0])"
   ]
  },
  {
   "cell_type": "markdown",
   "metadata": {},
   "source": [
    "**Reading camera**"
   ]
  },
  {
   "cell_type": "code",
   "execution_count": 13,
   "metadata": {},
   "outputs": [
    {
     "name": "stdout",
     "output_type": "stream",
     "text": [
      "Help on function read_vision_sensor in module vrep_robot.robot:\n",
      "\n",
      "read_vision_sensor(self)\n",
      "    Reads the image raw data from vrep vision sensor.\n",
      "    Returns:\n",
      "            resolution: Tuple with the image resolution.\n",
      "            image: List with the image data.\n",
      "\n"
     ]
    }
   ],
   "source": [
    "help(Robot.read_vision_sensor)"
   ]
  },
  {
   "cell_type": "code",
   "execution_count": 14,
   "metadata": {},
   "outputs": [
    {
     "data": {
      "image/png": "[encoded data removed]",
      "text/plain": [
       "<Figure size 1440x720 with 1 Axes>"
      ]
     },
     "metadata": {},
     "output_type": "display_data"
    }
   ],
   "source": [
    "from vrep_robot.utils import vrep2array\n",
    "\n",
    "resolution, raw_img = robot.read_vision_sensor()\n",
    "img = vrep2array(raw_img, resolution)\n",
    "\n",
    "plt.figure(figsize=(20,10))\n",
    "plt.imshow(img)\n",
    "plt.xticks([])\n",
    "plt.yticks([])\n",
    "plt.show()"
   ]
  },
  {
   "cell_type": "markdown",
   "metadata": {},
   "source": [
    "**Position and Locomotion**"
   ]
  },
  {
   "cell_type": "code",
   "execution_count": 15,
   "metadata": {},
   "outputs": [
    {
     "name": "stdout",
     "output_type": "stream",
     "text": [
      "Help on function get_current_position in module vrep_robot.robot:\n",
      "\n",
      "get_current_position(self)\n",
      "    Gives the current robot position on the environment.\n",
      "    Returns:\n",
      "            position: Array with the (x,y,z) coordinates.\n",
      "\n"
     ]
    }
   ],
   "source": [
    "help(Robot.get_current_position)"
   ]
  },
  {
   "cell_type": "code",
   "execution_count": 16,
   "metadata": {},
   "outputs": [
    {
     "data": {
      "text/plain": [
       "[-2.0253398418426514, -0.824985682964325, 0.13867820799350739]"
      ]
     },
     "execution_count": 16,
     "metadata": {},
     "output_type": "execute_result"
    }
   ],
   "source": [
    "position = robot.get_current_position()\n",
    "\n",
    "position"
   ]
  },
  {
   "cell_type": "code",
   "execution_count": 17,
   "metadata": {},
   "outputs": [
    {
     "name": "stdout",
     "output_type": "stream",
     "text": [
      "Help on function get_current_orientation in module vrep_robot.robot:\n",
      "\n",
      "get_current_orientation(self)\n",
      "    Gives the current robot orientation on the environment.\n",
      "    Returns:\n",
      "            orientation: Array with the euler angles (alpha, beta and gamma).\n",
      "\n"
     ]
    }
   ],
   "source": [
    "help(Robot.get_current_orientation)"
   ]
  },
  {
   "cell_type": "code",
   "execution_count": 18,
   "metadata": {},
   "outputs": [
    {
     "data": {
      "text/plain": [
       "[-8.050590986385942e-05, -0.001988953910768032, -2.449028761475347e-05]"
      ]
     },
     "execution_count": 18,
     "metadata": {},
     "output_type": "execute_result"
    }
   ],
   "source": [
    "orientation = robot.get_current_orientation()\n",
    "\n",
    "orientation"
   ]
  },
  {
   "cell_type": "code",
   "execution_count": 19,
   "metadata": {},
   "outputs": [
    {
     "name": "stdout",
     "output_type": "stream",
     "text": [
      "Help on function set_right_velocity in module vrep_robot.robot:\n",
      "\n",
      "set_right_velocity(self, vel)\n",
      "    Sets the velocity on the right motor.\n",
      "    Args:\n",
      "            vel: The velocity to be applied in the motor (rad/s)\n",
      "\n",
      "Help on function set_left_velocity in module vrep_robot.robot:\n",
      "\n",
      "set_left_velocity(self, vel)\n",
      "    Sets the velocity on the left motor.\n",
      "    Args:\n",
      "            vel: The velocity to be applied in the motor (rad/s)\n",
      "\n",
      "Help on function set_velocity in module vrep_robot.robot:\n",
      "\n",
      "set_velocity(self, V, W)\n",
      "    Sets a linear and a angular velocity on the robot.\n",
      "    Args:\n",
      "            V: Linear velocity (m/s) to be applied on the robot along its longitudinal axis.\n",
      "            W: Angular velocity (rad/s) to be applied on the robot along its axis of rotation, positive in the counter-clockwise direction.\n",
      "\n"
     ]
    }
   ],
   "source": [
    "help(Robot.set_right_velocity)\n",
    "help(Robot.set_left_velocity)\n",
    "help(Robot.set_velocity)"
   ]
  },
  {
   "cell_type": "markdown",
   "metadata": {},
   "source": [
    "**Simulation Tuning**\n",
    "\n",
    "Custom settings.\n",
    "\n",
    "* Time step = 250ms\n",
    "* Real-time simulation enabled (w/ 'try catching up')\n",
    "\n",
    "This settings work better to sync theoretical time and simulation time."
   ]
  },
  {
   "cell_type": "code",
   "execution_count": 20,
   "metadata": {},
   "outputs": [
    {
     "data": {
      "text/plain": [
       "0.0975"
      ]
     },
     "execution_count": 20,
     "metadata": {},
     "output_type": "execute_result"
    }
   ],
   "source": [
    "R = robot.WHEEL_RADIUS\n",
    "\n",
    "R"
   ]
  },
  {
   "cell_type": "code",
   "execution_count": 21,
   "metadata": {},
   "outputs": [
    {
     "data": {
      "text/plain": [
       "0.1905"
      ]
     },
     "execution_count": 21,
     "metadata": {},
     "output_type": "execute_result"
    }
   ],
   "source": [
    "L = robot.ROBOT_WIDTH / 2\n",
    "\n",
    "L"
   ]
  },
  {
   "cell_type": "markdown",
   "metadata": {},
   "source": [
    "...\n",
    "\n",
    "*Translation Analysis*\n",
    "\n",
    "Evaluate the fidelity of the simulation related to expected results from kinematic model.\n",
    "\n",
    "The case is to move the robot in a straight line for 5 meters in the expected time."
   ]
  },
  {
   "cell_type": "code",
   "execution_count": 22,
   "metadata": {},
   "outputs": [
    {
     "data": {
      "text/plain": [
       "51.28205128205128"
      ]
     },
     "execution_count": 22,
     "metadata": {},
     "output_type": "execute_result"
    }
   ],
   "source": [
    "s = 5.0 # meters\n",
    "w = 1.0 # rads per second\n",
    "\n",
    "T = s / (w * R) # seconds\n",
    "\n",
    "T"
   ]
  },
  {
   "cell_type": "code",
   "execution_count": 23,
   "metadata": {},
   "outputs": [
    {
     "name": "stdout",
     "output_type": "stream",
     "text": [
      "Simulation stopped...\n",
      "Simulation started...\n",
      "Position Initial  : [-2.02499795 -0.82499862  0.13879307]\n",
      "Position Final    : [ 2.94288278 -0.82585227  0.13870265]\n",
      "Position Stop     : [ 2.97055507 -0.82588017  0.13870418]\n",
      "Distance Expected : 5.0\n",
      "Distance Actual   : 4.967880800027767\n",
      "Distance Stop     : 0.027672304904286415\n",
      "Time Expected     : 51.28205128205128\n",
      "Time Actual       : 51.33144497871399\n"
     ]
    }
   ],
   "source": [
    "reset(robot)\n",
    "\n",
    "a = np.array(robot.get_current_position())\n",
    "t0 = time.time()\n",
    "\n",
    "robot.set_right_velocity(w)\n",
    "robot.set_left_velocity(w)\n",
    "time.sleep(T)\n",
    "\n",
    "t1 = time.time()\n",
    "\n",
    "b = np.array(robot.get_current_position())\n",
    "D = np.linalg.norm(a-b)\n",
    "\n",
    "robot.stop()\n",
    "time.sleep(0.5)\n",
    "\n",
    "c = np.array(robot.get_current_position())\n",
    "D_ = np.linalg.norm(b-c)\n",
    "\n",
    "print(\"Position Initial  :\", a)\n",
    "print(\"Position Final    :\", b)\n",
    "print(\"Position Stop     :\", c)\n",
    "print(\"Distance Expected :\", s)\n",
    "print(\"Distance Actual   :\", D)\n",
    "print(\"Distance Stop     :\", D_)\n",
    "print(\"Time Expected     :\", T)\n",
    "print(\"Time Actual       :\", t1 - t0)"
   ]
  },
  {
   "cell_type": "code",
   "execution_count": 24,
   "metadata": {},
   "outputs": [
    {
     "name": "stdout",
     "output_type": "stream",
     "text": [
      "Simulation stopped...\n",
      "Simulation started...\n",
      "Position Initial  : [-2.02499795 -0.82499862  0.13879307]\n",
      "Position Final    : [ 3.01598692 -0.8258872   0.13870268]\n",
      "Position Stop     : [ 3.043643   -0.82591552  0.13870582]\n",
      "Distance Expected : 5.0\n",
      "Distance Actual   : 5.040984948130252\n",
      "Distance Stop     : 0.02765609300929411\n",
      "Time Expected     : 51.28205128205128\n",
      "Time Actual       : 52.05220985412598\n"
     ]
    }
   ],
   "source": [
    "reset(robot)\n",
    "\n",
    "a = np.array(robot.get_current_position())\n",
    "t0 = time.time()\n",
    "\n",
    "robot.set_right_velocity(w)\n",
    "robot.set_left_velocity(w)\n",
    "\n",
    "while True:\n",
    "    time.sleep(1)\n",
    "    b = np.array(robot.get_current_position())\n",
    "    D = np.linalg.norm(a-b)\n",
    "    if D >= s:\n",
    "        break\n",
    "\n",
    "t1 = time.time()\n",
    "\n",
    "robot.stop()\n",
    "time.sleep(0.5)\n",
    "\n",
    "c = np.array(robot.get_current_position())\n",
    "D_ = np.linalg.norm(b-c)\n",
    "\n",
    "print(\"Position Initial  :\", a)\n",
    "print(\"Position Final    :\", b)\n",
    "print(\"Position Stop     :\", c)\n",
    "print(\"Distance Expected :\", s)\n",
    "print(\"Distance Actual   :\", D)\n",
    "print(\"Distance Stop     :\", D_)\n",
    "print(\"Time Expected     :\", T)\n",
    "print(\"Time Actual       :\", t1 - t0)"
   ]
  },
  {
   "cell_type": "markdown",
   "metadata": {},
   "source": [
    "...\n",
    "\n",
    "*Rotation Analysis*\n",
    "\n",
    "Evaluate the fidelity of the simulation related to expected results from kinematic model.\n",
    "\n",
    "The case is to turn the robot by 90° in the expected time."
   ]
  },
  {
   "cell_type": "code",
   "execution_count": 25,
   "metadata": {},
   "outputs": [
    {
     "data": {
      "text/plain": [
       "30.69094361583874"
      ]
     },
     "execution_count": 25,
     "metadata": {},
     "output_type": "execute_result"
    }
   ],
   "source": [
    "rot = 90 * np.pi / 180 # rads\n",
    "w = 0.1 # rads per second\n",
    "\n",
    "T = (rot * L) / (w * R) # seconds\n",
    "\n",
    "T"
   ]
  },
  {
   "cell_type": "code",
   "execution_count": 26,
   "metadata": {},
   "outputs": [
    {
     "name": "stdout",
     "output_type": "stream",
     "text": [
      "Simulation stopped...\n",
      "Simulation started...\n",
      "Gamma Initial : -0.0\n",
      "Gamma Final   : 1.7953742742538452\n",
      "Rot Expected  : 1.5707963267948966\n",
      "Rot Actual    : 1.7953742742538452\n",
      "Time Expected : 30.69094361583874\n",
      "Time Actual   : 30.820745706558228\n"
     ]
    }
   ],
   "source": [
    "reset(robot)\n",
    "\n",
    "a = robot.get_current_orientation()[2]\n",
    "t0 = time.time()\n",
    "\n",
    "#robot.set_velocity(0, -w * R / L)\n",
    "robot.set_right_velocity(w)\n",
    "robot.set_left_velocity(-w)\n",
    "time.sleep(T)\n",
    "robot.stop()\n",
    "\n",
    "t1 = time.time()\n",
    "\n",
    "time.sleep(0.5)\n",
    "\n",
    "b = robot.get_current_orientation()[2]\n",
    "\n",
    "if a >= 0 and b < 0:\n",
    "    D = 2 * np.pi + b - a \n",
    "else:\n",
    "    D = abs(b - a)\n",
    "    \n",
    "print(\"Gamma Initial :\", a)\n",
    "print(\"Gamma Final   :\", b)\n",
    "print(\"Rot Expected  :\", rot)\n",
    "print(\"Rot Actual    :\", D)\n",
    "print(\"Time Expected :\", T)\n",
    "print(\"Time Actual   :\", t1 - t0)"
   ]
  },
  {
   "cell_type": "code",
   "execution_count": 27,
   "metadata": {},
   "outputs": [
    {
     "name": "stdout",
     "output_type": "stream",
     "text": [
      "Simulation stopped...\n",
      "Simulation started...\n",
      "Gamma Initial : -0.0\n",
      "Gamma Final   : 1.5808075666427612\n",
      "Rot Expected  : 1.5707963267948966\n",
      "Rot Actual    : 1.5808075666427612\n",
      "Time Expected : 30.69094361583874\n",
      "Time Actual   : 27.355641841888428\n"
     ]
    }
   ],
   "source": [
    "reset(robot)\n",
    "\n",
    "a = robot.get_current_orientation()[2]\n",
    "t0 = time.time()\n",
    "\n",
    "#robot.set_velocity(0, -w * R / L)\n",
    "robot.set_right_velocity(w)\n",
    "robot.set_left_velocity(-w)\n",
    "\n",
    "while True:\n",
    "    time.sleep(0.1)\n",
    "    b = robot.get_current_orientation()[2]\n",
    "\n",
    "    if a >= 0 and b < 0:\n",
    "        D = 2 * np.pi + b - a \n",
    "    else:\n",
    "        D = abs(b - a)\n",
    "    if D >= rot:\n",
    "        break\n",
    "\n",
    "robot.stop()\n",
    "\n",
    "t1 = time.time()\n",
    "\n",
    "#time.sleep(0.5)\n",
    "\n",
    "print(\"Gamma Initial :\", a)\n",
    "print(\"Gamma Final   :\", b)\n",
    "print(\"Rot Expected  :\", rot)\n",
    "print(\"Rot Actual    :\", D)\n",
    "print(\"Time Expected :\", T)\n",
    "print(\"Time Actual   :\", t1 - t0)"
   ]
  },
  {
   "cell_type": "markdown",
   "metadata": {},
   "source": [
    "## Data Collection"
   ]
  },
  {
   "cell_type": "code",
   "execution_count": 28,
   "metadata": {},
   "outputs": [
    {
     "name": "stdout",
     "output_type": "stream",
     "text": [
      "Simulation stopped...\n",
      "Simulation started...\n"
     ]
    },
    {
     "data": {
      "text/plain": [
       "1263"
      ]
     },
     "execution_count": 28,
     "metadata": {},
     "output_type": "execute_result"
    }
   ],
   "source": [
    "reset(robot)\n",
    "\n",
    "def read_data(robot):\n",
    "    timestamp = time.time()\n",
    "    command = getattr(robot, \"command\", \"\")\n",
    "    position = robot.get_current_position()\n",
    "    orientation = robot.get_current_orientation()\n",
    "    ultrasonic = robot.read_ultrassonic_sensors()\n",
    "    laser = robot.read_laser()\n",
    "    \n",
    "    return [\n",
    "        timestamp,    # 1 column\n",
    "        command,      # 1 column\n",
    "        *position,    # 3 columns\n",
    "        *orientation, # 3 columns\n",
    "        *ultrasonic,  # 16 columns\n",
    "        *laser,       # 1239 columns (not always)\n",
    "    ]\n",
    "\n",
    "data = read_data(robot)\n",
    "\n",
    "len(data)"
   ]
  },
  {
   "cell_type": "code",
   "execution_count": 29,
   "metadata": {},
   "outputs": [
    {
     "name": "stdout",
     "output_type": "stream",
     "text": [
      "Moving forward 1.0m at 1.0rad/s\n",
      "Rotating right 90° at 0.1rad/s\n",
      "Moving forward 2.0m at 1.0rad/s\n",
      "Rotating left 90° at 0.1rad/s\n",
      "Moving forward 4.0m at 1.0rad/s\n",
      "Rotating left 90° at 0.1rad/s\n",
      "Moving forward 4.0m at 1.0rad/s\n",
      "Rotating left 90° at 0.1rad/s\n",
      "Moving forward 4.0m at 1.0rad/s\n",
      "Rotating left 90° at 0.1rad/s\n",
      "Moving forward 2.0m at 1.0rad/s\n",
      "Rotating left 90° at 0.1rad/s\n"
     ]
    }
   ],
   "source": [
    "def move(robot, distance, angular_velocity=1.0, verbose=True):\n",
    "    if verbose:\n",
    "        direction = \"forward\" if angular_velocity > 0 else \"backward\"\n",
    "        print(f\"Moving {direction} {distance}m at {abs(angular_velocity)}rad/s\")\n",
    "    robot.command = f\"move {distance} {angular_velocity}\"\n",
    "    T = distance / (abs(angular_velocity) * robot.WHEEL_RADIUS)\n",
    "    robot.set_right_velocity(angular_velocity)\n",
    "    robot.set_left_velocity(angular_velocity)\n",
    "    time.sleep(T)\n",
    "    robot.stop()\n",
    "    time.sleep(0.5)\n",
    "    robot.command = \"\"\n",
    "\n",
    "def rotate(robot, angle=90, angular_velocity=0.1, verbose=True):\n",
    "    if verbose:\n",
    "        direction = \"left\" if angle * angular_velocity > 0 else \"right\"\n",
    "        print(f\"Rotating {direction} {abs(angle)}° at {abs(angular_velocity)}rad/s\")\n",
    "    robot.command = f\"rotate {angle} {angular_velocity}\"\n",
    "    angle = angle * np.pi / 180 # rads\n",
    "    distance = abs(angle) * robot.ROBOT_WIDTH / 2\n",
    "    T = distance / (abs(angular_velocity) * robot.WHEEL_RADIUS)\n",
    "    if angle < 0:\n",
    "        angular_velocity = -angular_velocity\n",
    "    robot.set_right_velocity(angular_velocity)\n",
    "    robot.set_left_velocity(-angular_velocity)\n",
    "    time.sleep(T - 0.2) # reduce overshoot\n",
    "    robot.stop()\n",
    "    time.sleep(0.5)\n",
    "    robot.command = \"\"\n",
    "\n",
    "robot.stop()\n",
    "move(robot, 1.0)\n",
    "rotate(robot, -90)\n",
    "move(robot, 2.0)\n",
    "rotate(robot, 90)\n",
    "move(robot, 4.0)\n",
    "rotate(robot, 90)\n",
    "move(robot, 4.0)\n",
    "rotate(robot, 90)\n",
    "move(robot, 4.0)\n",
    "rotate(robot, 90)\n",
    "move(robot, 2.0)\n",
    "rotate(robot, 90)"
   ]
  },
  {
   "cell_type": "code",
   "execution_count": 30,
   "metadata": {},
   "outputs": [
    {
     "data": {
      "text/plain": [
       "20"
      ]
     },
     "execution_count": 30,
     "metadata": {},
     "output_type": "execute_result"
    }
   ],
   "source": [
    "import threading\n",
    "\n",
    "class DataCollector(threading.Thread):\n",
    "    def __init__(self, robot, read_interval=0.5):\n",
    "        threading.Thread.__init__(self)\n",
    "        self.robot = robot\n",
    "        self.read_interval = read_interval\n",
    "        self.terminate = False\n",
    "        self.data = list()\n",
    "\n",
    "    def stop(self):\n",
    "        self.terminate = True\n",
    "    \n",
    "    def run(self):\n",
    "        self.terminate = False\n",
    "        self.data = list()\n",
    "        N = int(60 / self.read_interval)\n",
    "        while not self.terminate:\n",
    "            n = len(self.data) + 1\n",
    "            if n % N == 0:\n",
    "                print(f\"Collecting data {n}...\")\n",
    "            data = read_data(self.robot)\n",
    "            self.data.append(data)\n",
    "            time.sleep(self.read_interval)\n",
    "\n",
    "dc = DataCollector(robot)\n",
    "\n",
    "dc.start()\n",
    "\n",
    "time.sleep(10)\n",
    "\n",
    "dc.stop()\n",
    "\n",
    "len(dc.data)"
   ]
  },
  {
   "cell_type": "code",
   "execution_count": 31,
   "metadata": {},
   "outputs": [
    {
     "name": "stdout",
     "output_type": "stream",
     "text": [
      "Simulation stopped...\n",
      "Simulation started...\n",
      "Start.\n",
      "Moving forward 1.0m at 1.0rad/s\n",
      "Rotating right 90° at 0.1rad/s\n",
      "Moving forward 2.0m at 1.0rad/s\n",
      "Rotating left 90° at 0.1rad/s\n",
      "Moving forward 4.0m at 1.0rad/s\n",
      "Rotating left 90° at 0.1rad/s\n",
      "Moving forward 4.0m at 1.0rad/s\n",
      "Rotating left 90° at 0.1rad/s\n",
      "Moving forward 4.0m at 1.0rad/s\n",
      "Rotating left 90° at 0.1rad/s\n",
      "Moving forward 2.0m at 1.0rad/s\n",
      "Rotating left 90° at 0.1rad/s\n",
      "Done.\n"
     ]
    }
   ],
   "source": [
    "class Explore(threading.Thread):\n",
    "    def __init__(self, robot):\n",
    "        threading.Thread.__init__(self)\n",
    "        self.robot = robot\n",
    "\n",
    "    def run(self):\n",
    "        robot = self.robot\n",
    "        robot.stop()\n",
    "        print(\"Start.\")\n",
    "        move(robot, 1.0)\n",
    "        rotate(robot, -90)\n",
    "        move(robot, 2.0)\n",
    "        rotate(robot, 90)\n",
    "        move(robot, 4.0)\n",
    "        rotate(robot, 90)\n",
    "        move(robot, 4.0)\n",
    "        rotate(robot, 90)\n",
    "        move(robot, 4.0)\n",
    "        rotate(robot, 90)\n",
    "        move(robot, 2.0)\n",
    "        rotate(robot, 90)\n",
    "        print(\"Done.\")\n",
    "\n",
    "reset(robot)\n",
    "x = Explore(robot)\n",
    "x.start()\n",
    "x.join()"
   ]
  },
  {
   "cell_type": "code",
   "execution_count": 32,
   "metadata": {},
   "outputs": [
    {
     "name": "stdout",
     "output_type": "stream",
     "text": [
      "Simulation stopped...\n",
      "Simulation started...\n",
      "Start.\n",
      "Moving forward 1.0m at 1.0rad/s\n",
      "Rotating right 90° at 0.1rad/s\n",
      "Moving forward 2.0m at 1.0rad/s\n",
      "Collecting data 120...\n",
      "Rotating left 90° at 0.1rad/s\n",
      "Moving forward 4.0m at 1.0rad/s\n",
      "Collecting data 240...\n",
      "Rotating left 90° at 0.1rad/s\n",
      "Moving forward 4.0m at 1.0rad/s\n",
      "Collecting data 360...\n",
      "Rotating left 90° at 0.1rad/s\n",
      "Moving forward 4.0m at 1.0rad/s\n",
      "Collecting data 480...\n",
      "Rotating left 90° at 0.1rad/s\n",
      "Collecting data 600...\n",
      "Moving forward 2.0m at 1.0rad/s\n",
      "Rotating left 90° at 0.1rad/s\n",
      "Collecting data 720...\n",
      "Done.\n"
     ]
    },
    {
     "data": {
      "text/plain": [
       "726"
      ]
     },
     "execution_count": 32,
     "metadata": {},
     "output_type": "execute_result"
    }
   ],
   "source": [
    "reset(robot)\n",
    "\n",
    "dc = DataCollector(robot)\n",
    "dc.start()\n",
    "\n",
    "x = Explore(robot)\n",
    "x.start()\n",
    "\n",
    "x.join()\n",
    "time.sleep(2)\n",
    "dc.stop()\n",
    "\n",
    "len(dc.data)"
   ]
  },
  {
   "cell_type": "code",
   "execution_count": 33,
   "metadata": {},
   "outputs": [
    {
     "name": "stdout",
     "output_type": "stream",
     "text": [
      "1275 0 1\n",
      "1266 1 1\n",
      "1260 2 3\n",
      "1263 5 1\n",
      "1269 6 1\n",
      "1275 7 1\n",
      "1281 8 1\n",
      "1275 9 1\n",
      "1281 10 3\n",
      "1299 13 1\n",
      "1296 14 2\n",
      "1302 16 1\n",
      "1290 17 1\n",
      "1302 18 1\n",
      "1299 19 1\n",
      "1305 20 1\n",
      "1299 21 1\n",
      "1290 22 1\n",
      "1284 23 1\n",
      "1287 24 1\n",
      "1302 25 1\n",
      "1299 26 1\n",
      "1284 27 1\n",
      "1269 28 1\n",
      "1257 29 2\n",
      "1239 31 1\n",
      "1218 32 1\n",
      "1221 33 1\n",
      "1212 34 1\n",
      "1203 35 2\n",
      "1200 37 1\n",
      "1212 38 1\n",
      "1206 39 1\n",
      "1212 40 1\n",
      "1209 41 2\n",
      "1212 43 2\n",
      "1206 45 3\n",
      "1218 48 1\n",
      "1206 49 1\n",
      "1200 50 1\n",
      "1194 51 1\n",
      "1212 52 1\n",
      "1200 53 1\n",
      "1185 54 1\n",
      "1167 55 1\n",
      "1170 56 1\n",
      "1149 57 1\n",
      "1140 58 1\n",
      "1113 59 1\n",
      "1110 60 1\n",
      "1083 61 1\n",
      "1074 62 1\n",
      "1077 63 1\n",
      "1074 64 1\n",
      "1080 65 1\n",
      "1071 66 1\n",
      "1083 67 1\n",
      "1074 68 1\n",
      "1083 69 1\n",
      "1080 70 1\n",
      "1071 71 1\n",
      "1068 72 1\n",
      "1089 73 1\n",
      "1083 74 1\n",
      "1080 75 1\n",
      "1107 76 1\n",
      "1128 77 1\n",
      "1149 78 1\n",
      "1164 79 1\n",
      "1167 80 1\n",
      "1170 81 1\n",
      "1173 82 2\n",
      "1191 84 1\n",
      "1200 85 1\n",
      "1185 86 1\n",
      "1212 87 1\n",
      "1224 88 1\n",
      "1230 89 1\n",
      "1248 90 1\n",
      "1263 91 1\n",
      "1269 92 1\n",
      "1290 93 1\n",
      "1305 94 1\n",
      "1317 95 1\n",
      "1332 96 1\n",
      "1347 97 1\n",
      "1362 98 1\n",
      "1392 99 1\n",
      "1404 100 1\n",
      "1407 101 1\n",
      "1431 102 1\n",
      "1434 103 1\n",
      "1443 104 1\n",
      "1464 105 1\n",
      "1482 106 1\n",
      "1479 107 1\n",
      "1494 108 1\n",
      "1518 109 1\n",
      "1548 110 1\n",
      "1533 111 2\n",
      "1545 113 1\n",
      "1563 114 1\n",
      "1560 115 2\n",
      "1596 117 1\n",
      "1617 118 1\n",
      "1632 119 1\n",
      "1653 120 1\n",
      "1674 121 1\n",
      "1677 122 2\n",
      "1662 124 1\n",
      "1635 125 1\n",
      "1647 126 1\n",
      "1614 127 1\n",
      "1605 128 1\n",
      "1599 129 1\n",
      "1587 130 1\n",
      "1575 131 1\n",
      "1554 132 1\n",
      "1539 133 1\n",
      "1530 134 1\n",
      "1518 135 1\n",
      "1509 136 1\n",
      "1476 137 1\n",
      "1473 138 1\n",
      "1476 139 2\n",
      "1467 141 1\n",
      "1461 142 1\n",
      "1458 143 2\n",
      "1461 145 1\n",
      "1458 146 1\n",
      "1461 147 1\n",
      "1443 148 1\n",
      "1422 149 1\n",
      "1416 150 1\n",
      "1398 151 1\n",
      "1389 152 1\n",
      "1377 153 1\n",
      "1359 154 1\n",
      "1341 155 1\n",
      "1332 156 1\n",
      "1317 157 1\n",
      "1296 158 1\n",
      "1290 159 1\n",
      "1275 160 1\n",
      "1260 161 1\n",
      "1248 162 1\n",
      "1236 163 1\n",
      "1218 164 2\n",
      "1221 166 1\n",
      "1215 167 1\n",
      "1218 168 2\n",
      "1221 170 2\n",
      "1224 172 2\n",
      "1221 174 1\n",
      "1218 175 1\n",
      "1224 176 1\n",
      "1221 177 1\n",
      "1218 178 1\n",
      "1224 179 1\n",
      "1221 180 1\n",
      "1218 181 1\n",
      "1221 182 3\n",
      "1218 185 1\n",
      "1215 186 1\n",
      "1209 187 1\n",
      "1206 188 1\n",
      "1200 189 1\n",
      "1194 190 2\n",
      "1221 192 1\n",
      "1278 193 2\n",
      "1281 195 1\n",
      "1275 196 2\n",
      "1272 198 1\n",
      "1275 199 1\n",
      "1272 200 1\n",
      "1263 201 1\n",
      "1257 202 1\n",
      "1248 203 1\n",
      "1245 204 1\n",
      "1236 205 1\n",
      "1230 206 1\n",
      "1227 207 1\n",
      "1218 208 1\n",
      "1221 209 1\n",
      "1218 210 1\n",
      "1212 211 1\n",
      "1197 212 1\n",
      "1200 213 1\n",
      "1197 214 1\n",
      "1191 215 1\n",
      "1197 216 1\n",
      "1221 217 1\n",
      "1230 218 1\n",
      "1236 219 1\n",
      "1245 220 1\n",
      "1254 221 1\n",
      "1257 222 1\n",
      "1260 223 1\n",
      "1266 224 1\n",
      "1272 225 1\n",
      "1275 226 1\n",
      "1311 227 1\n",
      "1383 228 1\n",
      "1404 229 2\n",
      "1413 231 2\n",
      "1416 233 1\n",
      "1413 234 1\n",
      "1416 235 1\n",
      "1422 236 1\n",
      "1425 237 1\n",
      "1428 238 2\n",
      "1437 240 1\n",
      "1446 241 1\n",
      "1455 242 1\n",
      "1461 243 1\n",
      "1464 244 1\n",
      "1467 245 1\n",
      "1500 246 1\n",
      "1521 247 1\n",
      "1548 248 1\n",
      "1545 249 1\n",
      "1551 250 1\n",
      "1548 251 1\n",
      "1554 252 1\n",
      "1560 253 2\n",
      "1569 255 1\n",
      "1575 256 2\n",
      "1581 258 1\n",
      "1587 259 2\n",
      "1593 261 1\n",
      "1602 262 2\n",
      "1614 264 2\n",
      "1620 266 2\n",
      "1614 268 1\n",
      "1593 269 1\n",
      "1590 270 1\n",
      "1575 271 1\n",
      "1554 272 1\n",
      "1542 273 1\n",
      "1527 274 1\n",
      "1503 275 1\n",
      "1494 276 1\n",
      "1488 277 1\n",
      "1470 278 1\n",
      "1446 279 1\n",
      "1443 280 1\n",
      "1434 281 1\n",
      "1413 282 1\n",
      "1395 283 1\n",
      "1383 284 1\n",
      "1368 285 1\n",
      "1344 286 1\n",
      "1341 287 1\n",
      "1320 288 1\n",
      "1305 289 1\n",
      "1293 290 1\n",
      "1278 291 1\n",
      "1269 292 1\n",
      "1251 293 1\n",
      "1236 294 1\n",
      "1224 295 1\n",
      "1209 296 1\n",
      "1191 297 1\n",
      "1179 298 1\n",
      "1164 299 1\n",
      "1149 300 1\n",
      "1134 301 1\n",
      "1125 302 1\n",
      "1107 303 1\n",
      "1092 304 1\n",
      "1074 305 1\n",
      "1059 306 1\n",
      "1044 307 1\n",
      "1023 308 1\n",
      "1008 309 1\n",
      "999 310 1\n",
      "981 311 1\n",
      "969 312 1\n",
      "954 313 1\n",
      "936 314 1\n",
      "927 315 1\n",
      "906 316 1\n",
      "897 317 2\n",
      "894 319 1\n",
      "897 320 4\n",
      "903 324 2\n",
      "891 326 2\n",
      "900 328 1\n",
      "903 329 1\n",
      "888 330 1\n",
      "882 331 1\n",
      "876 332 2\n",
      "858 334 1\n",
      "864 335 1\n",
      "849 336 2\n",
      "843 338 1\n",
      "840 339 1\n",
      "834 340 1\n",
      "822 341 1\n",
      "840 342 1\n",
      "843 343 1\n",
      "858 344 1\n",
      "870 345 1\n",
      "996 346 1\n",
      "1050 347 1\n",
      "1092 348 1\n",
      "1119 349 1\n",
      "1155 350 1\n",
      "1191 351 1\n",
      "1242 352 1\n",
      "1287 353 1\n",
      "1344 354 1\n",
      "1368 355 1\n",
      "1386 356 1\n",
      "1410 357 1\n",
      "1422 358 1\n",
      "1446 359 1\n",
      "1461 360 1\n",
      "1479 361 2\n",
      "1500 363 1\n",
      "1518 364 1\n",
      "1521 365 1\n",
      "1527 366 1\n",
      "1539 367 1\n",
      "1548 368 1\n",
      "1554 369 1\n",
      "1560 370 1\n",
      "1557 371 1\n",
      "1566 372 1\n",
      "1569 373 1\n",
      "1575 374 1\n",
      "1578 375 1\n",
      "1584 376 3\n",
      "1590 379 1\n",
      "1605 380 2\n",
      "1602 382 1\n",
      "1608 383 1\n",
      "1614 384 1\n",
      "1608 385 1\n",
      "1614 386 1\n",
      "1629 387 1\n",
      "1635 388 1\n",
      "1638 389 1\n",
      "1641 390 1\n",
      "1644 391 1\n",
      "1635 392 1\n",
      "1647 393 2\n",
      "1641 395 1\n",
      "1638 396 1\n",
      "1650 397 1\n",
      "1647 398 1\n",
      "1638 399 1\n",
      "1641 400 1\n",
      "1635 401 1\n",
      "1629 402 1\n",
      "1632 403 1\n",
      "1623 404 3\n",
      "1617 407 2\n",
      "1623 409 1\n",
      "1620 410 1\n",
      "1632 411 1\n",
      "1629 412 1\n",
      "1611 413 1\n",
      "1599 414 1\n",
      "1575 415 1\n",
      "1569 416 1\n",
      "1542 417 1\n",
      "1539 418 1\n",
      "1530 419 1\n",
      "1509 420 1\n",
      "1494 421 1\n",
      "1491 422 1\n",
      "1473 423 1\n",
      "1446 424 1\n",
      "1434 425 1\n",
      "1413 426 1\n",
      "1404 427 1\n",
      "1395 428 1\n",
      "1383 429 1\n",
      "1368 430 1\n",
      "1365 431 1\n",
      "1335 432 1\n",
      "1323 433 1\n",
      "1311 434 1\n",
      "1287 435 1\n",
      "1281 436 1\n",
      "1269 437 1\n",
      "1248 438 1\n",
      "1245 439 1\n",
      "1224 440 1\n",
      "1215 441 1\n",
      "1212 442 1\n",
      "1206 443 2\n",
      "1227 445 1\n",
      "1218 446 1\n",
      "1224 447 1\n",
      "1218 448 1\n",
      "1212 449 1\n",
      "1194 450 1\n",
      "1185 451 1\n",
      "1167 452 1\n",
      "1146 453 1\n",
      "1140 454 1\n",
      "1122 455 2\n",
      "1113 457 1\n",
      "1107 458 2\n",
      "1104 460 1\n",
      "1107 461 2\n",
      "1104 463 1\n",
      "1122 464 1\n",
      "1104 465 1\n",
      "1095 466 1\n",
      "1068 467 1\n",
      "1062 468 1\n",
      "1041 469 1\n",
      "1050 470 1\n",
      "1038 471 1\n",
      "1035 472 1\n",
      "1044 473 1\n",
      "1050 474 1\n",
      "1047 475 1\n",
      "1059 476 1\n",
      "1074 477 1\n",
      "1059 478 1\n",
      "1068 479 1\n",
      "1089 480 2\n",
      "1113 482 1\n",
      "1128 483 1\n",
      "1143 484 1\n",
      "1152 485 1\n",
      "1164 486 1\n",
      "1179 487 1\n",
      "1203 488 1\n",
      "1212 489 1\n",
      "1224 490 1\n",
      "1233 491 1\n",
      "1248 492 1\n",
      "1266 493 1\n",
      "1290 494 1\n",
      "1296 495 2\n",
      "1302 497 1\n",
      "1296 498 1\n",
      "1299 499 1\n",
      "1290 500 1\n",
      "1278 501 1\n",
      "1275 502 1\n",
      "1272 503 1\n",
      "1266 504 1\n",
      "1260 505 1\n",
      "1257 506 1\n",
      "1251 507 1\n",
      "1248 508 1\n",
      "1239 509 1\n",
      "1236 510 1\n",
      "1233 511 1\n",
      "1230 512 1\n",
      "1212 513 2\n",
      "1221 515 1\n",
      "1212 516 1\n",
      "1218 517 2\n",
      "1227 519 1\n",
      "1224 520 1\n",
      "1230 521 1\n",
      "1233 522 2\n",
      "1230 524 1\n",
      "1236 525 3\n",
      "1233 528 1\n",
      "1239 529 1\n",
      "1230 530 1\n",
      "1236 531 1\n",
      "1275 532 1\n",
      "1314 533 1\n",
      "1350 534 1\n",
      "1386 535 1\n",
      "1413 536 1\n",
      "1434 537 1\n",
      "1443 538 1\n",
      "1440 539 1\n",
      "1443 540 2\n",
      "1452 542 1\n",
      "1455 543 2\n",
      "1443 545 1\n",
      "1446 546 2\n",
      "1434 548 1\n",
      "1518 549 1\n",
      "1560 550 1\n",
      "1581 551 1\n",
      "1596 552 1\n",
      "1620 553 1\n",
      "1653 554 1\n",
      "1656 555 1\n",
      "1662 556 1\n",
      "1653 557 1\n",
      "1650 558 1\n",
      "1632 559 1\n",
      "1614 560 1\n",
      "1602 561 1\n",
      "1587 562 1\n",
      "1581 563 1\n",
      "1551 564 1\n",
      "1542 565 1\n",
      "1527 566 1\n",
      "1518 567 1\n",
      "1500 568 1\n",
      "1479 569 1\n",
      "1467 570 1\n",
      "1452 571 1\n",
      "1443 572 1\n",
      "1422 573 1\n",
      "1407 574 1\n",
      "1395 575 1\n",
      "1377 576 1\n",
      "1359 577 1\n",
      "1356 578 1\n",
      "1323 579 1\n",
      "1311 580 1\n",
      "1305 581 1\n",
      "1287 582 1\n",
      "1272 583 1\n",
      "1263 584 1\n",
      "1242 585 1\n",
      "1227 586 1\n",
      "1218 587 2\n",
      "1212 589 1\n",
      "1218 590 1\n",
      "1215 591 1\n",
      "1218 592 1\n",
      "1212 593 1\n",
      "1197 594 2\n",
      "1191 596 1\n",
      "1188 597 1\n",
      "1194 598 1\n",
      "1191 599 1\n",
      "1194 600 1\n",
      "1182 601 1\n",
      "1167 602 1\n",
      "1173 603 1\n",
      "1170 604 1\n",
      "1176 605 1\n",
      "1170 606 1\n",
      "1173 607 1\n",
      "1167 608 1\n",
      "1176 609 2\n",
      "1167 611 1\n",
      "1173 612 1\n",
      "1170 613 1\n",
      "1167 614 1\n",
      "1173 615 1\n",
      "1176 616 1\n",
      "1173 617 2\n",
      "1182 619 1\n",
      "1191 620 1\n",
      "1209 621 1\n",
      "1224 622 1\n",
      "1233 623 1\n",
      "1245 624 1\n",
      "1269 625 1\n",
      "1263 626 1\n",
      "1248 627 1\n",
      "1242 628 1\n",
      "1233 629 1\n",
      "1236 630 1\n",
      "1227 631 1\n",
      "1221 632 1\n",
      "1215 633 1\n",
      "1212 634 1\n",
      "1206 635 1\n",
      "1212 636 1\n",
      "1197 637 1\n",
      "1194 638 1\n",
      "1179 639 1\n",
      "1161 640 1\n",
      "1164 641 1\n",
      "1173 642 1\n",
      "1176 643 1\n",
      "1158 644 1\n",
      "1170 645 1\n",
      "1155 646 1\n",
      "1161 647 1\n",
      "1152 648 1\n",
      "1155 649 1\n",
      "1158 650 2\n",
      "1167 652 1\n",
      "1176 653 1\n",
      "1239 654 2\n",
      "1284 656 1\n",
      "1308 657 1\n",
      "1326 658 1\n",
      "1353 659 1\n",
      "1350 660 1\n",
      "1341 661 1\n",
      "1353 662 1\n",
      "1371 663 1\n",
      "1365 664 1\n",
      "1356 665 1\n",
      "1365 666 1\n",
      "1386 667 1\n",
      "1383 668 1\n",
      "1389 669 1\n",
      "1377 670 1\n",
      "1380 671 5\n",
      "1368 676 1\n",
      "1356 677 1\n",
      "1362 678 1\n",
      "1359 679 1\n",
      "1356 680 1\n",
      "1347 681 1\n",
      "1350 682 3\n",
      "1359 685 1\n",
      "1350 686 1\n",
      "1353 687 1\n",
      "1347 688 1\n",
      "1356 689 2\n",
      "1350 691 1\n",
      "1353 692 1\n",
      "1359 693 2\n",
      "1350 695 1\n",
      "1347 696 1\n",
      "1359 697 1\n",
      "1344 698 2\n",
      "1323 700 1\n",
      "1308 701 1\n",
      "1287 702 1\n",
      "1269 703 1\n",
      "1266 704 1\n",
      "1251 705 1\n",
      "1236 706 1\n",
      "1230 707 1\n",
      "1239 708 1\n",
      "1233 709 1\n",
      "1239 710 1\n",
      "1236 711 1\n",
      "1233 712 1\n",
      "1227 713 1\n",
      "1224 714 1\n",
      "1233 715 1\n",
      "1230 716 2\n",
      "1227 718 1\n",
      "1239 719 1\n",
      "1233 720 1\n"
     ]
    }
   ],
   "source": [
    "llen = None\n",
    "i = 0\n",
    "n = 0\n",
    "for i_, data in enumerate(dc.data):\n",
    "    llen_ = len(data)\n",
    "    if llen is None:\n",
    "        llen = llen_\n",
    "        n = 1\n",
    "    elif llen != llen_:\n",
    "        print(llen, i, n)\n",
    "        llen = llen_\n",
    "        i = i_\n",
    "        n = 1\n",
    "    else:\n",
    "        n += 1"
   ]
  },
  {
   "cell_type": "code",
   "execution_count": 34,
   "metadata": {},
   "outputs": [
    {
     "data": {
      "text/plain": [
       "24"
      ]
     },
     "execution_count": 34,
     "metadata": {},
     "output_type": "execute_result"
    }
   ],
   "source": [
    "columns = [\"timestamp\", \"command\", \"x\", \"y\", \"z\", \"alpha\", \"beta\", \"gamma\"]\n",
    "columns.extend(f\"sonar_{i}\" for i in range(1, 17))\n",
    "\n",
    "N = len(columns)\n",
    "\n",
    "N"
   ]
  },
  {
   "cell_type": "code",
   "execution_count": 35,
   "metadata": {},
   "outputs": [
    {
     "data": {
      "text/plain": [
       "726"
      ]
     },
     "execution_count": 35,
     "metadata": {},
     "output_type": "execute_result"
    }
   ],
   "source": [
    "len(dc.data)"
   ]
  },
  {
   "cell_type": "code",
   "execution_count": 36,
   "metadata": {},
   "outputs": [
    {
     "data": {
      "text/plain": [
       "0"
      ]
     },
     "execution_count": 36,
     "metadata": {},
     "output_type": "execute_result"
    }
   ],
   "source": [
    "sum(1 for data in dc.data if (len(data)-N) % 3)"
   ]
  },
  {
   "cell_type": "code",
   "execution_count": 37,
   "metadata": {},
   "outputs": [
    {
     "data": {
      "text/plain": [
       "1677"
      ]
     },
     "execution_count": 37,
     "metadata": {},
     "output_type": "execute_result"
    }
   ],
   "source": [
    "n_cols = max(len(data) for data in dc.data)\n",
    "n_cols"
   ]
  },
  {
   "cell_type": "code",
   "execution_count": 38,
   "metadata": {},
   "outputs": [
    {
     "data": {
      "text/plain": [
       "0"
      ]
     },
     "execution_count": 38,
     "metadata": {},
     "output_type": "execute_result"
    }
   ],
   "source": [
    "(n_cols-N) % 3"
   ]
  },
  {
   "cell_type": "code",
   "execution_count": 39,
   "metadata": {},
   "outputs": [
    {
     "data": {
      "text/plain": [
       "551"
      ]
     },
     "execution_count": 39,
     "metadata": {},
     "output_type": "execute_result"
    }
   ],
   "source": [
    "n_laser = (n_cols-N) // 3\n",
    "\n",
    "n_laser"
   ]
  },
  {
   "cell_type": "code",
   "execution_count": 40,
   "metadata": {},
   "outputs": [
    {
     "data": {
      "text/plain": [
       "1677"
      ]
     },
     "execution_count": 40,
     "metadata": {},
     "output_type": "execute_result"
    }
   ],
   "source": [
    "columns.extend(f\"laser_{i}_{d}\"\n",
    "               for i in range(1, n_laser+1)\n",
    "               for d in [\"x\", \"y\", \"z\"])\n",
    "\n",
    "len(columns)"
   ]
  },
  {
   "cell_type": "code",
   "execution_count": 41,
   "metadata": {},
   "outputs": [
    {
     "data": {
      "text/plain": [
       "(1677,)"
      ]
     },
     "execution_count": 41,
     "metadata": {},
     "output_type": "execute_result"
    }
   ],
   "source": [
    "data = list(np.pad(data, (0,n_cols - len(data)),\n",
    "                   constant_values=np.nan)\n",
    "            for data in dc.data)\n",
    "\n",
    "data[0].shape"
   ]
  },
  {
   "cell_type": "code",
   "execution_count": 42,
   "metadata": {},
   "outputs": [
    {
     "data": {
      "text/plain": [
       "1677"
      ]
     },
     "execution_count": 42,
     "metadata": {},
     "output_type": "execute_result"
    }
   ],
   "source": [
    "data_cols = list(zip(*data))\n",
    "\n",
    "len(data_cols)"
   ]
  },
  {
   "cell_type": "code",
   "execution_count": 43,
   "metadata": {},
   "outputs": [
    {
     "data": {
      "text/html": [
       "<div>\n",
       "<style scoped>\n",
       "    .dataframe tbody tr th:only-of-type {\n",
       "        vertical-align: middle;\n",
       "    }\n",
       "\n",
       "    .dataframe tbody tr th {\n",
       "        vertical-align: top;\n",
       "    }\n",
       "\n",
       "    .dataframe thead th {\n",
       "        text-align: right;\n",
       "    }\n",
       "</style>\n",
       "<table border=\"1\" class=\"dataframe\">\n",
       "  <thead>\n",
       "    <tr style=\"text-align: right;\">\n",
       "      <th></th>\n",
       "      <th>timestamp</th>\n",
       "      <th>command</th>\n",
       "      <th>x</th>\n",
       "      <th>y</th>\n",
       "      <th>z</th>\n",
       "      <th>alpha</th>\n",
       "      <th>beta</th>\n",
       "      <th>gamma</th>\n",
       "      <th>sonar_1</th>\n",
       "      <th>sonar_2</th>\n",
       "      <th>...</th>\n",
       "      <th>laser_548_z</th>\n",
       "      <th>laser_549_x</th>\n",
       "      <th>laser_549_y</th>\n",
       "      <th>laser_549_z</th>\n",
       "      <th>laser_550_x</th>\n",
       "      <th>laser_550_y</th>\n",
       "      <th>laser_550_z</th>\n",
       "      <th>laser_551_x</th>\n",
       "      <th>laser_551_y</th>\n",
       "      <th>laser_551_z</th>\n",
       "    </tr>\n",
       "  </thead>\n",
       "  <tbody>\n",
       "    <tr>\n",
       "      <td>0</td>\n",
       "      <td>1569973028.338881</td>\n",
       "      <td></td>\n",
       "      <td>-2.0249979496002197</td>\n",
       "      <td>-0.8249986171722412</td>\n",
       "      <td>0.13879306614398956</td>\n",
       "      <td>-0.0</td>\n",
       "      <td>0.0</td>\n",
       "      <td>-0.0</td>\n",
       "      <td>5.0</td>\n",
       "      <td>5.0</td>\n",
       "      <td>...</td>\n",
       "      <td>nan</td>\n",
       "      <td>nan</td>\n",
       "      <td>nan</td>\n",
       "      <td>nan</td>\n",
       "      <td>nan</td>\n",
       "      <td>nan</td>\n",
       "      <td>nan</td>\n",
       "      <td>nan</td>\n",
       "      <td>nan</td>\n",
       "      <td>nan</td>\n",
       "    </tr>\n",
       "    <tr>\n",
       "      <td>1</td>\n",
       "      <td>1569973030.6387472</td>\n",
       "      <td>move 1.0 1.0</td>\n",
       "      <td>-1.9312107563018799</td>\n",
       "      <td>-0.825020968914032</td>\n",
       "      <td>0.13867105543613434</td>\n",
       "      <td>-8.338922634720802e-05</td>\n",
       "      <td>-0.002055610064417124</td>\n",
       "      <td>-0.00018919678404927254</td>\n",
       "      <td>5.0</td>\n",
       "      <td>5.0</td>\n",
       "      <td>...</td>\n",
       "      <td>nan</td>\n",
       "      <td>nan</td>\n",
       "      <td>nan</td>\n",
       "      <td>nan</td>\n",
       "      <td>nan</td>\n",
       "      <td>nan</td>\n",
       "      <td>nan</td>\n",
       "      <td>nan</td>\n",
       "      <td>nan</td>\n",
       "      <td>nan</td>\n",
       "    </tr>\n",
       "    <tr>\n",
       "      <td>2</td>\n",
       "      <td>1569973031.1418796</td>\n",
       "      <td>move 1.0 1.0</td>\n",
       "      <td>-1.8580650091171265</td>\n",
       "      <td>-0.8250422477722168</td>\n",
       "      <td>0.13868580758571625</td>\n",
       "      <td>-6.92511530360207e-05</td>\n",
       "      <td>-0.00177689956035465</td>\n",
       "      <td>-0.00010453524737386033</td>\n",
       "      <td>5.0</td>\n",
       "      <td>5.0</td>\n",
       "      <td>...</td>\n",
       "      <td>nan</td>\n",
       "      <td>nan</td>\n",
       "      <td>nan</td>\n",
       "      <td>nan</td>\n",
       "      <td>nan</td>\n",
       "      <td>nan</td>\n",
       "      <td>nan</td>\n",
       "      <td>nan</td>\n",
       "      <td>nan</td>\n",
       "      <td>nan</td>\n",
       "    </tr>\n",
       "    <tr>\n",
       "      <td>3</td>\n",
       "      <td>1569973031.645871</td>\n",
       "      <td>move 1.0 1.0</td>\n",
       "      <td>-1.8092721700668335</td>\n",
       "      <td>-0.8250502347946167</td>\n",
       "      <td>0.13869845867156982</td>\n",
       "      <td>-8.198240539059043e-05</td>\n",
       "      <td>-0.0014528866158798337</td>\n",
       "      <td>-8.856091881170869e-05</td>\n",
       "      <td>5.0</td>\n",
       "      <td>5.0</td>\n",
       "      <td>...</td>\n",
       "      <td>nan</td>\n",
       "      <td>nan</td>\n",
       "      <td>nan</td>\n",
       "      <td>nan</td>\n",
       "      <td>nan</td>\n",
       "      <td>nan</td>\n",
       "      <td>nan</td>\n",
       "      <td>nan</td>\n",
       "      <td>nan</td>\n",
       "      <td>nan</td>\n",
       "    </tr>\n",
       "    <tr>\n",
       "      <td>4</td>\n",
       "      <td>1569973032.1488547</td>\n",
       "      <td>move 1.0 1.0</td>\n",
       "      <td>-1.7361500263214111</td>\n",
       "      <td>-0.8250522613525391</td>\n",
       "      <td>0.13870026171207428</td>\n",
       "      <td>-7.546229608124122e-05</td>\n",
       "      <td>-0.0013865763321518898</td>\n",
       "      <td>-9.359580872114748e-05</td>\n",
       "      <td>5.0</td>\n",
       "      <td>5.0</td>\n",
       "      <td>...</td>\n",
       "      <td>nan</td>\n",
       "      <td>nan</td>\n",
       "      <td>nan</td>\n",
       "      <td>nan</td>\n",
       "      <td>nan</td>\n",
       "      <td>nan</td>\n",
       "      <td>nan</td>\n",
       "      <td>nan</td>\n",
       "      <td>nan</td>\n",
       "      <td>nan</td>\n",
       "    </tr>\n",
       "  </tbody>\n",
       "</table>\n",
       "<p>5 rows × 1677 columns</p>\n",
       "</div>"
      ],
      "text/plain": [
       "            timestamp       command                    x                    y  \\\n",
       "0   1569973028.338881                -2.0249979496002197  -0.8249986171722412   \n",
       "1  1569973030.6387472  move 1.0 1.0  -1.9312107563018799   -0.825020968914032   \n",
       "2  1569973031.1418796  move 1.0 1.0  -1.8580650091171265  -0.8250422477722168   \n",
       "3   1569973031.645871  move 1.0 1.0  -1.8092721700668335  -0.8250502347946167   \n",
       "4  1569973032.1488547  move 1.0 1.0  -1.7361500263214111  -0.8250522613525391   \n",
       "\n",
       "                     z                   alpha                    beta  \\\n",
       "0  0.13879306614398956                    -0.0                     0.0   \n",
       "1  0.13867105543613434  -8.338922634720802e-05   -0.002055610064417124   \n",
       "2  0.13868580758571625   -6.92511530360207e-05    -0.00177689956035465   \n",
       "3  0.13869845867156982  -8.198240539059043e-05  -0.0014528866158798337   \n",
       "4  0.13870026171207428  -7.546229608124122e-05  -0.0013865763321518898   \n",
       "\n",
       "                     gamma sonar_1 sonar_2  ... laser_548_z laser_549_x  \\\n",
       "0                     -0.0     5.0     5.0  ...         nan         nan   \n",
       "1  -0.00018919678404927254     5.0     5.0  ...         nan         nan   \n",
       "2  -0.00010453524737386033     5.0     5.0  ...         nan         nan   \n",
       "3   -8.856091881170869e-05     5.0     5.0  ...         nan         nan   \n",
       "4   -9.359580872114748e-05     5.0     5.0  ...         nan         nan   \n",
       "\n",
       "  laser_549_y laser_549_z laser_550_x laser_550_y laser_550_z laser_551_x  \\\n",
       "0         nan         nan         nan         nan         nan         nan   \n",
       "1         nan         nan         nan         nan         nan         nan   \n",
       "2         nan         nan         nan         nan         nan         nan   \n",
       "3         nan         nan         nan         nan         nan         nan   \n",
       "4         nan         nan         nan         nan         nan         nan   \n",
       "\n",
       "  laser_551_y laser_551_z  \n",
       "0         nan         nan  \n",
       "1         nan         nan  \n",
       "2         nan         nan  \n",
       "3         nan         nan  \n",
       "4         nan         nan  \n",
       "\n",
       "[5 rows x 1677 columns]"
      ]
     },
     "execution_count": 43,
     "metadata": {},
     "output_type": "execute_result"
    }
   ],
   "source": [
    "df = pd.DataFrame(data=data, columns=columns)\n",
    "\n",
    "df.head()"
   ]
  },
  {
   "cell_type": "code",
   "execution_count": 44,
   "metadata": {},
   "outputs": [],
   "source": [
    "data_file = \"sensor-data.csv\"\n",
    "df.to_csv(data_file, index=False)"
   ]
  },
  {
   "cell_type": "code",
   "execution_count": 45,
   "metadata": {},
   "outputs": [
    {
     "name": "stdout",
     "output_type": "stream",
     "text": [
      "File size: 19,351,005 bytes\n"
     ]
    }
   ],
   "source": [
    "import os\n",
    "\n",
    "print(f\"File size: {os.stat(data_file).st_size:,d} bytes\")"
   ]
  },
  {
   "cell_type": "code",
   "execution_count": null,
   "metadata": {},
   "outputs": [],
   "source": []
  }
 ],
 "metadata": {
  "kernelspec": {
   "display_name": "Robotics",
   "language": "python",
   "name": "robotics_python"
  },
  "language_info": {
   "codemirror_mode": {
    "name": "ipython",
    "version": 3
   },
   "file_extension": ".py",
   "mimetype": "text/x-python",
   "name": "python",
   "nbconvert_exporter": "python",
   "pygments_lexer": "ipython3",
   "version": "3.7.4"
  }
 },
 "nbformat": 4,
 "nbformat_minor": 4
}
