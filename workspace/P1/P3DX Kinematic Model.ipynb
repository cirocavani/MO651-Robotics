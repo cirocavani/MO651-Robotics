{
 "cells": [
  {
   "cell_type": "markdown",
   "metadata": {},
   "source": [
    "# P3DX Kinematic Model\n",
    "\n",
    "Reference:\n",
    "\n",
    "Lecture 5 - Locomotion I [ [PDF](https://www.ic.unicamp.br/~esther/teaching/2019s2/mo651/Lecture%2005%20-%20Locomotion.pdf) ]\n",
    "\n",
    "Lecture 6 - Locomotion II [ [PDF](https://www.ic.unicamp.br/~esther/teaching/2019s2/mo651/Lecture%2006%20-%20LocomotionII.pdf) ]\n",
    "\n",
    "Lecture 7 - Locomotion III [ [PDF](https://www.ic.unicamp.br/~esther/teaching/2019s2/mo651/Lecture%2007%20-%20LocomotionIII.pdf) ]"
   ]
  },
  {
   "cell_type": "code",
   "execution_count": 1,
   "metadata": {},
   "outputs": [
    {
     "data": {
      "text/plain": [
       "Plots.PyPlotBackend()"
      ]
     },
     "execution_count": 1,
     "metadata": {},
     "output_type": "execute_result"
    }
   ],
   "source": [
    "using Plots\n",
    "pyplot()"
   ]
  },
  {
   "cell_type": "markdown",
   "metadata": {},
   "source": [
    "## Model\n",
    "\n",
    "$$\n",
    "\\begin{bmatrix}\n",
    "x \\\\\n",
    "y \\\\\n",
    "\\theta\n",
    "\\end{bmatrix}_{t}\n",
    "=\n",
    "\\begin{bmatrix}\n",
    "x \\\\\n",
    "y \\\\\n",
    "\\theta\n",
    "\\end{bmatrix}_{0}\n",
    "+\n",
    "\\sum^{t}_{k=1}{\n",
    "\\begin{bmatrix}\n",
    "\\Delta_{s} \\cos(\\theta + \\frac{\\Delta_{\\theta}}{2})  \\\\\n",
    "\\Delta_{s} \\sin(\\theta + \\frac{\\Delta_{\\theta}}{2}) \\\\\n",
    "\\Delta_{\\theta}\n",
    "\\end{bmatrix}_{k}\n",
    "} \\\\\n",
    "\\Delta_{s} = \\frac{R (\\omega_{r} + \\omega_{l})}{2} \\Delta_{t} \\\\\n",
    "\\omega = \\frac{R (\\omega_{r} - \\omega_{l})}{2L} \\\\\n",
    "\\Delta_{\\theta} = \\omega \\Delta_{t}\n",
    "$$\n",
    "\n",
    "Where:\n",
    "\n",
    "* $R$ is the radius of the wheels (constant);\n",
    "* $L$ is the distance of the wheels to the center (constant);\n",
    "* $\\omega_{r}$, $\\omega_{l}$ are the angular velocity of each wheel (`right` and `left` respectively, unit `rads per second`).\n",
    "\n",
    "...\n",
    "\n",
    "For our P3DX model, considering:\n",
    "\n",
    "* $R = 0.195 / 2$ (meters)\n",
    "* $L = 0.381 / 2$ (meters)"
   ]
  },
  {
   "cell_type": "code",
   "execution_count": 2,
   "metadata": {},
   "outputs": [
    {
     "data": {
      "text/plain": [
       "Robot(0.0975, 0.1905)"
      ]
     },
     "execution_count": 2,
     "metadata": {},
     "output_type": "execute_result"
    }
   ],
   "source": [
    "struct Robot\n",
    "    R::Float64\n",
    "    L::Float64\n",
    "end\n",
    "\n",
    "p3dx = Robot(0.195/2, 0.381/2)"
   ]
  },
  {
   "cell_type": "code",
   "execution_count": 3,
   "metadata": {},
   "outputs": [
    {
     "data": {
      "text/plain": [
       "Pose(0.0, 0.0, 0.0)"
      ]
     },
     "execution_count": 3,
     "metadata": {},
     "output_type": "execute_result"
    }
   ],
   "source": [
    "struct Pose\n",
    "    x::Float64\n",
    "    y::Float64\n",
    "    θ::Float64\n",
    "end\n",
    "\n",
    "p0 = Pose(0, 0, 0)"
   ]
  },
  {
   "cell_type": "code",
   "execution_count": 4,
   "metadata": {},
   "outputs": [
    {
     "data": {
      "text/plain": [
       "Pose(0.009750000000000002, 0.0, 0.0)"
      ]
     },
     "execution_count": 4,
     "metadata": {},
     "output_type": "execute_result"
    }
   ],
   "source": [
    "function compute_odometry(robot, pose, ωr, ωl, Δt)\n",
    "    R, L = robot.R, robot.L\n",
    "    x, y, θ = pose.x, pose.y, pose.θ\n",
    "    Δs = Δt * R * (ωr + ωl) / 2\n",
    "    ω = R * (ωr - ωl) / 2L\n",
    "    Δθ = Δt * ω\n",
    "    \n",
    "    Δx = Δs * cos(θ + Δθ / 2)\n",
    "    Δy = Δs * sin(θ + Δθ / 2)\n",
    "    \n",
    "    return Pose(x + Δx, y + Δy, θ + Δθ)\n",
    "end\n",
    "\n",
    "compute_odometry(p3dx, p0, 2, 2, 50/1000)"
   ]
  },
  {
   "cell_type": "markdown",
   "metadata": {},
   "source": [
    "**Compute Odometry for 5m straight line**"
   ]
  },
  {
   "cell_type": "code",
   "execution_count": 113,
   "metadata": {},
   "outputs": [
    {
     "data": {
      "text/plain": [
       "1026"
      ]
     },
     "execution_count": 113,
     "metadata": {},
     "output_type": "execute_result"
    }
   ],
   "source": [
    "s = 5.0 # distance in meters\n",
    "ω = 1.0 # rads per second\n",
    "\n",
    "T = s / (ω * p3dx.R)\n",
    "\n",
    "Δt = 50/1000 # 50 milliseconds\n",
    "N = ceil(Int, T / Δt)\n",
    "\n",
    "x0 = y0 = 0.0\n",
    "θ0 = 45π / 180 # 45° in rads\n",
    "\n",
    "poses = Vector{Pose}(undef, N+1)\n",
    "poses[1] = Pose(x0, y0, θ0)\n",
    "\n",
    "for i=1:N\n",
    "    poses[i+1] = compute_odometry(p3dx, poses[i], ω, ω, Δt)\n",
    "end\n",
    "\n",
    "N"
   ]
  },
  {
   "cell_type": "code",
   "execution_count": 114,
   "metadata": {},
   "outputs": [
    {
     "data": {
      "image/png": "[encoded data removed]"
     },
     "execution_count": 114,
     "metadata": {},
     "output_type": "execute_result"
    }
   ],
   "source": [
    "x = map(p -> p.x, poses)\n",
    "y = map(p -> p.y, poses)\n",
    "@assert x ≈ y\n",
    "\n",
    "line45 = max(x[end], y[end])\n",
    "\n",
    "plot(x, y, label=\"Odometry\")\n",
    "plot!([0, line45], [0, line45], label=\"Line 45°\")"
   ]
  },
  {
   "cell_type": "code",
   "execution_count": 115,
   "metadata": {},
   "outputs": [],
   "source": [
    "θ = map(p -> p.θ, poses)\n",
    "\n",
    "@assert length(unique(θ)) == 1\n",
    "@assert unique(θ)[1] == θ0"
   ]
  },
  {
   "cell_type": "code",
   "execution_count": 116,
   "metadata": {},
   "outputs": [
    {
     "name": "stdout",
     "output_type": "stream",
     "text": [
      "Error: -0.002, -0.04%\n"
     ]
    }
   ],
   "source": [
    "serror = s - √((x[end] - x[1])^2 + (y[end] - y[1])^2)\n",
    "serror_ = serror / s\n",
    "\n",
    "println(\"Error: \", round(serror, digits=3), \", \", round(100 * serror_, digits=2), \"%\")"
   ]
  },
  {
   "cell_type": "markdown",
   "metadata": {},
   "source": [
    "**Compute Odometry for 90° turn**"
   ]
  },
  {
   "cell_type": "code",
   "execution_count": 117,
   "metadata": {},
   "outputs": [
    {
     "data": {
      "text/plain": [
       "62"
      ]
     },
     "execution_count": 117,
     "metadata": {},
     "output_type": "execute_result"
    }
   ],
   "source": [
    "ϕ = 90π / 180 # 90° in rads\n",
    "ω = 1 # rads per second\n",
    "\n",
    "T = (ϕ * p3dx.L) / (ω * p3dx.R) # seconds to turn angle ϕ\n",
    "\n",
    "Δt = 50/1000 # 50 milliseconds\n",
    "N = ceil(Int, T / Δt)\n",
    "\n",
    "x0 = y0 = θ0 = 0.0\n",
    "\n",
    "poses_r = Vector{Pose}(undef, N+1)\n",
    "poses_r[1] = Pose(x0, y0, θ0)\n",
    "\n",
    "# move right wheel forward, left wheel backward - turn 90° counter-clockwise (increase θ)\n",
    "for i=1:N\n",
    "    poses_r[i+1] = compute_odometry(p3dx, poses_r[i], ω, -ω, Δt)\n",
    "end\n",
    "\n",
    "poses_l = Vector{Pose}(undef, N+1)\n",
    "poses_l[1] = Pose(x0, y0, θ0)\n",
    "\n",
    "# move right wheel backward, left wheel forward - turn 90° clockwise (decrease θ)\n",
    "for i=1:N\n",
    "    poses_l[i+1] = compute_odometry(p3dx, poses_l[i], -ω, ω, Δt)\n",
    "end\n",
    "\n",
    "N"
   ]
  },
  {
   "cell_type": "code",
   "execution_count": 118,
   "metadata": {},
   "outputs": [],
   "source": [
    "x = map(p -> p.x, poses_r)\n",
    "y = map(p -> p.y, poses_r)\n",
    "@assert x ≈ y\n",
    "@assert length(unique(x)) == 1\n",
    "@assert length(unique(y)) == 1\n",
    "@assert unique(x)[1] ≈ 0.0\n",
    "@assert unique(y)[1] ≈ 0.0\n",
    "\n",
    "x = map(p -> p.x, poses_l)\n",
    "y = map(p -> p.y, poses_l)\n",
    "@assert x ≈ y\n",
    "@assert length(unique(x)) == 1\n",
    "@assert length(unique(y)) == 1\n",
    "@assert unique(x)[1] ≈ 0.0\n",
    "@assert unique(y)[1] ≈ 0.0"
   ]
  },
  {
   "cell_type": "code",
   "execution_count": 119,
   "metadata": {},
   "outputs": [
    {
     "data": {
      "image/png": "[encoded data removed]"
     },
     "execution_count": 119,
     "metadata": {},
     "output_type": "execute_result"
    }
   ],
   "source": [
    "θr = map(p -> p.θ, poses_r)\n",
    "θl = map(p -> p.θ, poses_l)\n",
    "\n",
    "plot(θr, label=\"θ (counter-clockwise)\")\n",
    "plot!(θl, label=\"θ (clockwise)\")"
   ]
  },
  {
   "cell_type": "code",
   "execution_count": 120,
   "metadata": {},
   "outputs": [
    {
     "name": "stdout",
     "output_type": "stream",
     "text": [
      "Expected 90° angle           : 1.5707963267948966\n",
      "Actual 90° counter-clockwise : 1.5866141732283447\n",
      "Actual 90° clockwise         : -1.5866141732283447\n"
     ]
    }
   ],
   "source": [
    "println(\"Expected 90° angle           : \", ϕ)\n",
    "println(\"Actual 90° counter-clockwise : \", θr[end])\n",
    "println(\"Actual 90° clockwise         : \", θl[end])"
   ]
  },
  {
   "cell_type": "code",
   "execution_count": 121,
   "metadata": {},
   "outputs": [
    {
     "name": "stdout",
     "output_type": "stream",
     "text": [
      "Error: -0.016, -1.01%\n"
     ]
    }
   ],
   "source": [
    "ϕerror = ϕ - θr[end]\n",
    "ϕerror_ = ϕerror / ϕ\n",
    "\n",
    "println(\"Error: \", round(ϕerror, digits=3), \", \", round(100 * ϕerror_, digits=2), \"%\")"
   ]
  },
  {
   "cell_type": "markdown",
   "metadata": {},
   "source": [
    "**Compute Odometry Square 5m**"
   ]
  },
  {
   "cell_type": "code",
   "execution_count": 140,
   "metadata": {},
   "outputs": [],
   "source": [
    "s = 5.0 # distance in meters\n",
    "ϕ = 90π / 180 # 90° in rads\n",
    "ω = 1.0 # rads per second\n",
    "\n",
    "Δt = 50/1000 # 50 milliseconds\n",
    "\n",
    "Tline = s / (ω * p3dx.R) # seconds to walk distance s\n",
    "Nline = ceil(Int, Tline / Δt)\n",
    "\n",
    "Tcorner = (ϕ * p3dx.L) / (ω * p3dx.R) # seconds to turn angle ϕ\n",
    "Ncorner = ceil(Int, Tcorner / Δt)\n",
    "\n",
    "N = 4 * Nline + 4 * Ncorner\n",
    "x0 = y0 = θ0 = 0.0\n",
    "\n",
    "poses = Vector{Pose}(undef, N+1)\n",
    "poses[1] = Pose(x0, y0, θ0)\n",
    "i = 1\n",
    "\n",
    "for _=1:Nline\n",
    "    poses[i+1] = compute_odometry(p3dx, poses[i], ω, ω, Δt)\n",
    "    i += 1\n",
    "end\n",
    "\n",
    "for _=1:Ncorner\n",
    "    poses[i+1] = compute_odometry(p3dx, poses[i], ω, -ω, Δt)\n",
    "    i += 1\n",
    "end\n",
    "\n",
    "for _=1:Nline\n",
    "    poses[i+1] = compute_odometry(p3dx, poses[i], ω, ω, Δt)\n",
    "    i += 1\n",
    "end\n",
    "\n",
    "for _=1:Ncorner\n",
    "    poses[i+1] = compute_odometry(p3dx, poses[i], ω, -ω, Δt)\n",
    "    i += 1\n",
    "end\n",
    "\n",
    "for _=1:Nline\n",
    "    poses[i+1] = compute_odometry(p3dx, poses[i], ω, ω, Δt)\n",
    "    i += 1\n",
    "end\n",
    "\n",
    "for _=1:Ncorner\n",
    "    poses[i+1] = compute_odometry(p3dx, poses[i], ω, -ω, Δt)\n",
    "    i += 1\n",
    "end\n",
    "\n",
    "for _=1:Nline\n",
    "    poses[i+1] = compute_odometry(p3dx, poses[i], ω, ω, Δt)\n",
    "    i += 1\n",
    "end\n",
    "\n",
    "for _=1:Ncorner\n",
    "    poses[i+1] = compute_odometry(p3dx, poses[i], ω, -ω, Δt)\n",
    "    i += 1\n",
    "end"
   ]
  },
  {
   "cell_type": "code",
   "execution_count": 144,
   "metadata": {},
   "outputs": [
    {
     "data": {
      "image/png": "[encoded data removed]"
     },
     "execution_count": 144,
     "metadata": {},
     "output_type": "execute_result"
    }
   ],
   "source": [
    "x = map(p -> p.x, poses)\n",
    "y = map(p -> p.y, poses)\n",
    "\n",
    "plot(x, y, label=\"Odometry\")"
   ]
  },
  {
   "cell_type": "code",
   "execution_count": 142,
   "metadata": {},
   "outputs": [
    {
     "data": {
      "image/png": "[encoded data removed]"
     },
     "execution_count": 142,
     "metadata": {},
     "output_type": "execute_result"
    }
   ],
   "source": [
    "θ = map(p -> p.θ, poses)\n",
    "\n",
    "plot(θ, label=\"θ\")"
   ]
  },
  {
   "cell_type": "code",
   "execution_count": null,
   "metadata": {},
   "outputs": [],
   "source": []
  }
 ],
 "metadata": {
  "kernelspec": {
   "display_name": "Julia 1.2.0",
   "language": "julia",
   "name": "julia-1.2"
  },
  "language_info": {
   "file_extension": ".jl",
   "mimetype": "application/julia",
   "name": "julia",
   "version": "1.2.0"
  }
 },
 "nbformat": 4,
 "nbformat_minor": 4
}
