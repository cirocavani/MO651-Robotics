{
 "cells": [
  {
   "cell_type": "code",
   "execution_count": 1,
   "metadata": {},
   "outputs": [
    {
     "name": "stdout",
     "output_type": "stream",
     "text": [
      "Julia Version 1.2.0\n",
      "Commit c6da87ff4b (2019-08-20 00:03 UTC)\n",
      "Platform Info:\n",
      "  OS: Linux (x86_64-pc-linux-gnu)\n",
      "      \"Arch Linux\"\n",
      "  uname: Linux 5.3.1-arch1-1-ARCH #1 SMP PREEMPT Sat Sep 21 11:33:49 UTC 2019 x86_64 unknown\n",
      "  CPU: Intel(R) Core(TM) i5-4200U CPU @ 1.60GHz: \n",
      "              speed         user         nice          sys         idle          irq\n",
      "       #1  2173 MHz    1128870 s         77 s     151781 s    2468808 s      19229 s\n",
      "       #2  2180 MHz    1029534 s         44 s     139865 s    2573198 s      22648 s\n",
      "       #3  2424 MHz    1127752 s         59 s     148781 s    2478706 s      13461 s\n",
      "       #4  2112 MHz    1036051 s         43 s     138446 s    2581407 s      13400 s\n",
      "       \n",
      "  Memory: 7.683933258056641 GB (4133.01171875 MB free)\n",
      "  Uptime: 38170.0 sec\n",
      "  Load Avg:  0.703125  2.2587890625  2.28759765625\n",
      "  WORD_SIZE: 64\n",
      "  LIBM: libopenlibm\n",
      "  LLVM: libLLVM-6.0.1 (ORCJIT, haswell)\n",
      "Environment:\n",
      "  JULIA_DEPOT_PATH = /home/cavani/Workspace/Unicamp/Robotics/software/julia-env\n",
      "  JULIA_PROJECT = /home/cavani/Workspace/Unicamp/Robotics\n",
      "  JULIA_INSTDIR = /home/cavani/Workspace/Unicamp/Robotics/software/julia\n",
      "  JAVA_HOME = /home/cavani/Software/Java8\n",
      "  HOME = /home/cavani\n",
      "  ANDROID_HOME = /home/cavani/Android/SDK\n",
      "  TERM = xterm-256color\n",
      "  CUDA_PATH = /opt/cuda\n",
      "  JULIA_DEPOT_PATH = /home/cavani/Workspace/Unicamp/Robotics/software/julia-env\n",
      "  LD_LIBRARY_PATH = /home/cavani/julia-libs\n",
      "  MOZ_PLUGIN_PATH = /usr/lib/mozilla/plugins\n",
      "  PATH = /home/cavani/Workspace/Unicamp/Robotics/software/conda/envs/jupyter/bin:/home/cavani/Workspace/Unicamp/Robotics/software/conda/bin:/home/cavani/Workspace/Unicamp/Robotics/software/julia/bin:/home/cavani/Workspace/Unicamp/Robotics/software/vrep:/home/cavani/Software/Java8/bin:/home/cavani/Workspace/flutter-alpha/bin:/home/cavani/julia-1.1.1/bin:/home/cavani/Software/Java8/bin:/home/cavani/Workspace/flutter-alpha/bin:/usr/local/bin:/usr/local/sbin:/usr/bin:/opt/cuda/bin:/var/lib/flatpak/exports/bin:/usr/lib/jvm/default/bin:/usr/bin/site_perl:/usr/bin/vendor_perl:/usr/bin/core_perl:/home/cavani/.rvm/bin:/home/cavani/.rvm/bin:/opt/cuda/bin:/var/lib/flatpak/exports/bin:/usr/lib/jvm/default/bin:/usr/bin/site_perl:/usr/bin/vendor_perl:/usr/bin/core_perl:/home/cavani/.rvm/bin:/home/cavani/.rvm/bin\n",
      "  PROJECT_HOME = /home/cavani/Workspace/Unicamp/Robotics\n"
     ]
    }
   ],
   "source": [
    "versioninfo(verbose=true)"
   ]
  },
  {
   "cell_type": "code",
   "execution_count": 2,
   "metadata": {},
   "outputs": [
    {
     "name": "stdout",
     "output_type": "stream",
     "text": [
      "\u001b[32m\u001b[1m    Status\u001b[22m\u001b[39m `/run/media/cavani/cavani_hdx/Unicamp/Robotics/Project.toml`\n",
      " \u001b[90m [336ed68f]\u001b[39m\u001b[92m + CSV v0.5.12\u001b[39m\n",
      " \u001b[90m [a93c6f00]\u001b[39m\u001b[92m + DataFrames v0.19.4\u001b[39m\n",
      " \u001b[90m [7073ff75]\u001b[39m\u001b[92m + IJulia v1.20.0\u001b[39m\n",
      " \u001b[90m [91a5bcdd]\u001b[39m\u001b[92m + Plots v0.26.3\u001b[39m\n",
      " \u001b[90m [d330b81b]\u001b[39m\u001b[92m + PyPlot v2.8.2\u001b[39m\n",
      " \u001b[90m [f3b207a7]\u001b[39m\u001b[92m + StatsPlots v0.12.0\u001b[39m\n"
     ]
    }
   ],
   "source": [
    "import Pkg\n",
    "Pkg.status()"
   ]
  },
  {
   "cell_type": "code",
   "execution_count": 3,
   "metadata": {},
   "outputs": [
    {
     "name": "stdout",
     "output_type": "stream",
     "text": [
      "\u001b[32m\u001b[1mPrecompiling\u001b[22m\u001b[39m project...\n"
     ]
    }
   ],
   "source": [
    "Pkg.API.precompile()"
   ]
  }
 ],
 "metadata": {
  "kernelspec": {
   "display_name": "Julia 1.2.0",
   "language": "julia",
   "name": "julia-1.2"
  },
  "language_info": {
   "file_extension": ".jl",
   "mimetype": "application/julia",
   "name": "julia",
   "version": "1.2.0"
  }
 },
 "nbformat": 4,
 "nbformat_minor": 4
}
