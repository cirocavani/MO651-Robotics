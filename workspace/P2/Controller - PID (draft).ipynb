{
 "cells": [
  {
   "cell_type": "markdown",
   "metadata": {},
   "source": [
    "# Controller - PID\n",
    "\n",
    "Reference:\n",
    "\n",
    "Lecture 8 - Control I [ [PDF](https://www.ic.unicamp.br/~esther/teaching/2019s2/mo651/Lecture%2008%20-%20ControlI.pdf) ]"
   ]
  },
  {
   "cell_type": "code",
   "execution_count": 1,
   "metadata": {},
   "outputs": [
    {
     "name": "stderr",
     "output_type": "stream",
     "text": [
      "┌ Info: Precompiling Robotics [facd5b7b-9aee-4b35-b3b8-a081b31a0ace]\n",
      "└ @ Base loading.jl:1242\n",
      "┌ Info: Skipping precompilation since __precompile__(false). Importing Robotics [facd5b7b-9aee-4b35-b3b8-a081b31a0ace].\n",
      "└ @ Base loading.jl:1017\n"
     ]
    },
    {
     "data": {
      "text/plain": [
       "Plots.PyPlotBackend()"
      ]
     },
     "execution_count": 1,
     "metadata": {},
     "output_type": "execute_result"
    }
   ],
   "source": [
    "using Robotics\n",
    "using Plots\n",
    "using Images\n",
    "pyplot()"
   ]
  },
  {
   "cell_type": "code",
   "execution_count": 2,
   "metadata": {},
   "outputs": [
    {
     "name": "stdout",
     "output_type": "stream",
     "text": [
      "Simulation stopped...\n",
      "Simulation started...\n",
      "Connected to remoteApi server.\n",
      "Pioneer_p3dx_ultrasonicSensor1 not connected.\n",
      "Pioneer_p3dx_ultrasonicSensor2 not connected.\n",
      "Pioneer_p3dx_ultrasonicSensor3 not connected.\n",
      "Pioneer_p3dx_ultrasonicSensor4 not connected.\n",
      "Pioneer_p3dx_ultrasonicSensor5 not connected.\n",
      "Pioneer_p3dx_ultrasonicSensor6 not connected.\n",
      "Pioneer_p3dx_ultrasonicSensor7 not connected.\n",
      "Pioneer_p3dx_ultrasonicSensor8 not connected.\n",
      "Pioneer_p3dx_ultrasonicSensor9 not connected.\n",
      "Pioneer_p3dx_ultrasonicSensor10 not connected.\n",
      "Pioneer_p3dx_ultrasonicSensor11 not connected.\n",
      "Pioneer_p3dx_ultrasonicSensor12 not connected.\n",
      "Pioneer_p3dx_ultrasonicSensor13 not connected.\n",
      "Pioneer_p3dx_ultrasonicSensor14 not connected.\n",
      "Pioneer_p3dx_ultrasonicSensor15 not connected.\n",
      "Pioneer_p3dx_ultrasonicSensor16 not connected.\n",
      "Laser not connected.\n",
      "Vision sensor not connected.\n",
      "Left motor not connected.\n",
      "Right motor not connected.\n",
      "Robot not connected.\n"
     ]
    },
    {
     "data": {
      "text/plain": [
       "Robot(0, Int32[-404225472, 32642, 0, 0, -404160488, 32642, -404225472, 32642, 0, 0, -404160488, 32642, -404225472, 32642, 0, 0], 0, 0, Dict(:left => 0,:right => 0), 0, 0.381f0, 0.0975f0)"
      ]
     },
     "execution_count": 2,
     "metadata": {},
     "output_type": "execute_result"
    }
   ],
   "source": [
    "reset_simulation()\n",
    "\n",
    "robot = Robot()"
   ]
  },
  {
   "cell_type": "code",
   "execution_count": null,
   "metadata": {},
   "outputs": [],
   "source": []
  }
 ],
 "metadata": {
  "kernelspec": {
   "display_name": "Julia 1.2.0",
   "language": "julia",
   "name": "julia-1.2"
  },
  "language_info": {
   "file_extension": ".jl",
   "mimetype": "application/julia",
   "name": "julia",
   "version": "1.2.0"
  }
 },
 "nbformat": 4,
 "nbformat_minor": 4
}
