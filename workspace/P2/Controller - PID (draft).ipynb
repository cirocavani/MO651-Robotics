{
 "cells": [
  {
   "cell_type": "markdown",
   "metadata": {},
   "source": [
    "# Controller - PID\n",
    "\n",
    "Reference:\n",
    "\n",
    "Lecture 8 - Control I [ [PDF](https://www.ic.unicamp.br/~esther/teaching/2019s2/mo651/Lecture%2008%20-%20ControlI.pdf) ]"
   ]
  },
  {
   "cell_type": "markdown",
   "metadata": {},
   "source": [
    "<a href=\"https://colab.research.google.com/github/cirocavani/MO651-Robotics/blob/master/workspace/P2/Controller%20-%20PID%20(draft).ipynb\" target=\"_parent\"><img src=\"https://colab.research.google.com/assets/colab-badge.svg\" alt=\"Open In Colab\"/></a>"
   ]
  },
  {
   "cell_type": "markdown",
   "metadata": {},
   "source": [
    "[ Start Colab Setup ]"
   ]
  },
  {
   "cell_type": "code",
   "execution_count": null,
   "metadata": {},
   "outputs": [],
   "source": [
    "# Colab-only\n",
    "#\n",
    "# 1. Run this cell once.\n",
    "#\n",
    "# 2. Go to Menu \"Edit > Notebook settings\", on \"Runtime type\" select \"OpenAI Spinning Up\" and click on \"Save\".\n",
    "#\n",
    "# 3. After restart, continue running the notebook.\n",
    "\n",
    "\n",
    "!echo \"Clone Robotics...\"\n",
    "!apt-get install -y -qq git-lfs > /dev/null\n",
    "!git lfs install > /dev/null 2>&1\n",
    "!apt-get install -y -qq git-lfs > /dev/null\n",
    "!git clone --quiet --depth=1 https://github.com/cirocavani/MO651-Robotics.git Robotics > /dev/null 2>&1\n",
    "!echo \"Download Packages...\"\n",
    "!Robotics/setup/downloads.sh > /dev/null 2>&1\n",
    "!echo \"Install Conda...\"\n",
    "!Robotics/setup/install-conda.sh > /dev/null 2>&1\n",
    "!echo \"Install Python...\"\n",
    "!Robotics/setup/install-python.sh > /dev/null 2>&1\n",
    "!echo \"Install Julia...\"\n",
    "!Robotics/setup/install-julia.sh > /dev/null 2>&1\n",
    "!echo \"Setup Dev...\"\n",
    "!Robotics/setup/setup-dev.sh > /dev/null 2>&1\n",
    "!echo \"Install Jupyter kernel...\"\n",
    "!sed -i -e 's#@.#/content/Robotics#' -e 's#\"env\": {}#\"env\": {\"JULIA_DEPOT_PATH\": \"/content/Robotics/software/julia-env\"}#' Robotics/software/jupyter-data/kernels/julia-1.2/kernel.json\n",
    "!jupyter kernelspec install Robotics/software/jupyter-data/kernels/julia-1.2 > /dev/null 2>&1\n",
    "!echo \"Disable Colab kernel...\"\n",
    "!sed -i -e '/c\\.IPKernelApp\\.kernel\\_class*/ s/^#*/#/' /etc/ipython/ipython_config.py\n",
    "\n",
    "!echo \"Install V-REP...\"\n",
    "!apt-get install -y -qq xvfb x11-utils > /dev/null\n",
    "!Robotics/setup/install-vrep.sh > /dev/null 2>&1\n",
    "\n",
    "!echo \"Done!\""
   ]
  },
  {
   "cell_type": "code",
   "execution_count": null,
   "metadata": {},
   "outputs": [],
   "source": [
    "# Colab-only.\n",
    "# \n",
    "# After restart, run this cell.\n",
    "\n",
    "\n",
    "ENV[\"DISPLAY\"] = \":0.0\"\n",
    "run(pipeline(`Xvfb :0.0 -screen 0 800x600x24`;\n",
    "             stdout=\"/root/xvfb.out\", stderr=\"/root/xvfb.err\"), wait=false)\n",
    "run(pipeline(`/content/Robotics/software/vrep/vrep.sh -h /content/Robotics/vrep-data/p3dx2.ttt`;\n",
    "             stdout=\"/root/vrep.out\", stderr=\"/root/vrep.err\"), wait=false)"
   ]
  },
  {
   "cell_type": "code",
   "execution_count": null,
   "metadata": {},
   "outputs": [],
   "source": [
    "run(`ps auxw`)\n",
    "println(\"\\n***** Output\\n\")\n",
    "run(`cat /root/vrep.out`)\n",
    "println(\"\\n***** Error\\n\")\n",
    "run(`cat /root/vrep.err`)"
   ]
  },
  {
   "cell_type": "markdown",
   "metadata": {},
   "source": [
    "[ End of Colab Setup ]"
   ]
  },
  {
   "cell_type": "code",
   "execution_count": 1,
   "metadata": {},
   "outputs": [
    {
     "data": {
      "text/plain": [
       "Plots.PyPlotBackend()"
      ]
     },
     "execution_count": 1,
     "metadata": {},
     "output_type": "execute_result"
    }
   ],
   "source": [
    "using Robotics\n",
    "using LinearAlgebra\n",
    "using Plots\n",
    "using Images\n",
    "pyplot()"
   ]
  },
  {
   "cell_type": "code",
   "execution_count": 2,
   "metadata": {},
   "outputs": [
    {
     "data": {
      "text/plain": [
       "Dict{Symbol,Any} with 6 entries:\n",
       "  :ylims        => (-5, 5)\n",
       "  :xlims        => (-5, 5)\n",
       "  :framestyle   => :origin\n",
       "  :aspect_ratio => 1\n",
       "  :xticks       => -5:5\n",
       "  :yticks       => -5:5"
      ]
     },
     "execution_count": 2,
     "metadata": {},
     "output_type": "execute_result"
    }
   ],
   "source": [
    "plot_attrs = Dict(\n",
    "    :aspect_ratio=>1,\n",
    "    :framestyle=>:origin,\n",
    "    :xlims=>(-5, 5),\n",
    "    :ylims=>(-5, 5),\n",
    "    :xticks=>-5:5,\n",
    "    :yticks=>-5:5\n",
    ")\n",
    "\n",
    "plot_attrs"
   ]
  },
  {
   "cell_type": "code",
   "execution_count": 3,
   "metadata": {},
   "outputs": [
    {
     "data": {
      "image/png": "[encoded data removed]"
     },
     "execution_count": 3,
     "metadata": {},
     "output_type": "execute_result"
    }
   ],
   "source": [
    "A = [0, 0]\n",
    "B = [4, 3]\n",
    "\n",
    "Lx, Ly = collect.(zip(A, B))\n",
    "\n",
    "plot(Lx, Ly; label=\"Line\", plot_attrs...)"
   ]
  },
  {
   "cell_type": "code",
   "execution_count": 4,
   "metadata": {},
   "outputs": [
    {
     "data": {
      "text/plain": [
       "(1.0, 1.0, 0.0)"
      ]
     },
     "execution_count": 4,
     "metadata": {},
     "output_type": "execute_result"
    }
   ],
   "source": [
    "u = B - A\n",
    "u = u / norm(u)\n",
    "v = [0 -1; 1 0] * u\n",
    "\n",
    "norm(u), norm(v), u ⋅ v"
   ]
  },
  {
   "cell_type": "code",
   "execution_count": 5,
   "metadata": {},
   "outputs": [
    {
     "data": {
      "image/png": "[encoded data removed]"
     },
     "execution_count": 5,
     "metadata": {},
     "output_type": "execute_result"
    }
   ],
   "source": [
    "M = (A + B) / 2\n",
    "U = M + u\n",
    "V = M + v\n",
    "\n",
    "plot(Lx, Ly; label=\"Line\", plot_attrs...)\n",
    "plot!(collect.(zip(M, U))...; label=\"û\", arrow=:arrow)\n",
    "plot!(collect.(zip(M, V))...; label=\"v̂\", arrow=:arrow)"
   ]
  },
  {
   "cell_type": "code",
   "execution_count": 6,
   "metadata": {},
   "outputs": [
    {
     "data": {
      "text/plain": [
       "2.6"
      ]
     },
     "execution_count": 6,
     "metadata": {},
     "output_type": "execute_result"
    }
   ],
   "source": [
    "P = [1, 4]\n",
    "\n",
    "d = (P - A) ⋅ v"
   ]
  },
  {
   "cell_type": "code",
   "execution_count": 7,
   "metadata": {},
   "outputs": [
    {
     "data": {
      "text/plain": [
       "2-element Array{Float64,1}:\n",
       " 2.56\n",
       " 1.92"
      ]
     },
     "execution_count": 7,
     "metadata": {},
     "output_type": "execute_result"
    }
   ],
   "source": [
    "Q = P - d * v"
   ]
  },
  {
   "cell_type": "code",
   "execution_count": 8,
   "metadata": {},
   "outputs": [
    {
     "data": {
      "image/png": "[encoded data removed]"
     },
     "execution_count": 8,
     "metadata": {},
     "output_type": "execute_result"
    }
   ],
   "source": [
    "plot(Lx, Ly; label=\"Line\", plot_attrs...)\n",
    "plot!(collect.(zip(P, Q))...; label=\"\")\n",
    "plot!([P[1]], [P[2]]; label=\"Point\", seriestype=:scatter)"
   ]
  },
  {
   "cell_type": "code",
   "execution_count": 9,
   "metadata": {},
   "outputs": [
    {
     "data": {
      "text/plain": [
       "2-element Array{Float64,1}:\n",
       "  6.123233995736766e-17\n",
       " -1.0                  "
      ]
     },
     "execution_count": 9,
     "metadata": {},
     "output_type": "execute_result"
    }
   ],
   "source": [
    "θ = -90π/180\n",
    "\n",
    "h = [cos(θ), sin(θ)]"
   ]
  },
  {
   "cell_type": "code",
   "execution_count": 10,
   "metadata": {},
   "outputs": [
    {
     "data": {
      "text/plain": [
       "2-element Array{Float64,1}:\n",
       " 1.0\n",
       " 3.0"
      ]
     },
     "execution_count": 10,
     "metadata": {},
     "output_type": "execute_result"
    }
   ],
   "source": [
    "H = P + h"
   ]
  },
  {
   "cell_type": "code",
   "execution_count": 11,
   "metadata": {},
   "outputs": [
    {
     "data": {
      "image/png": "[encoded data removed]"
     },
     "execution_count": 11,
     "metadata": {},
     "output_type": "execute_result"
    }
   ],
   "source": [
    "plot(Lx, Ly; label=\"Line\", plot_attrs...)\n",
    "plot!(collect.(zip(M, U))...; label=\"û\", arrow=:arrow)\n",
    "plot!(collect.(zip(M, V))...; label=\"v̂\", arrow=:arrow)\n",
    "plot!(collect.(zip(P, Q))...; label=\"\")\n",
    "plot!(collect.(zip(P, H))...; label=\"θ\", arrow=:arrow)\n",
    "plot!([P[1]], [P[2]]; label=\"Point\", seriestype=:scatter)"
   ]
  },
  {
   "cell_type": "code",
   "execution_count": 12,
   "metadata": {},
   "outputs": [
    {
     "data": {
      "text/plain": [
       "2.214297435588181"
      ]
     },
     "execution_count": 12,
     "metadata": {},
     "output_type": "execute_result"
    }
   ],
   "source": [
    "∠ = acos(h ⋅ u)"
   ]
  },
  {
   "cell_type": "code",
   "execution_count": 13,
   "metadata": {},
   "outputs": [
    {
     "data": {
      "text/plain": [
       "126.86989764584402"
      ]
     },
     "execution_count": 13,
     "metadata": {},
     "output_type": "execute_result"
    }
   ],
   "source": [
    "180∠/π"
   ]
  },
  {
   "cell_type": "code",
   "execution_count": 14,
   "metadata": {},
   "outputs": [
    {
     "data": {
      "text/plain": [
       "126.86989764584402"
      ]
     },
     "execution_count": 14,
     "metadata": {},
     "output_type": "execute_result"
    }
   ],
   "source": [
    "180 - 180atan(4/3)/π"
   ]
  },
  {
   "cell_type": "code",
   "execution_count": 15,
   "metadata": {},
   "outputs": [
    {
     "data": {
      "image/png": "[encoded data removed]"
     },
     "execution_count": 15,
     "metadata": {},
     "output_type": "execute_result"
    }
   ],
   "source": [
    "θʼ = -30π/180\n",
    "hʼ = [cos(θʼ), sin(θʼ)]\n",
    "Hʼ = P + hʼ\n",
    "\n",
    "plot(Lx, Ly; label=\"Line\", plot_attrs...)\n",
    "plot!(collect.(zip(M, U))...; label=\"u⃗\", arrow=:arrow)\n",
    "plot!(collect.(zip(M, V))...; label=\"v̂\", arrow=:arrow)\n",
    "plot!(collect.(zip(P, Q))...; label=\"\")\n",
    "plot!(collect.(zip(P, Hʼ))...; label=\"θ\", arrow=:arrow)\n",
    "plot!([P[1]], [P[2]]; label=\"Point\", seriestype=:scatter)"
   ]
  },
  {
   "cell_type": "code",
   "execution_count": 16,
   "metadata": {},
   "outputs": [
    {
     "data": {
      "text/plain": [
       "1.167099884391583"
      ]
     },
     "execution_count": 16,
     "metadata": {},
     "output_type": "execute_result"
    }
   ],
   "source": [
    "∠ʼ = acos(hʼ ⋅ u)"
   ]
  },
  {
   "cell_type": "code",
   "execution_count": 17,
   "metadata": {},
   "outputs": [
    {
     "data": {
      "text/plain": [
       "66.869897645844"
      ]
     },
     "execution_count": 17,
     "metadata": {},
     "output_type": "execute_result"
    }
   ],
   "source": [
    "180∠ʼ/π"
   ]
  },
  {
   "cell_type": "code",
   "execution_count": 18,
   "metadata": {},
   "outputs": [
    {
     "data": {
      "text/plain": [
       "0.0"
      ]
     },
     "execution_count": 18,
     "metadata": {},
     "output_type": "execute_result"
    }
   ],
   "source": [
    "acos(u ⋅ u)"
   ]
  },
  {
   "cell_type": "code",
   "execution_count": 19,
   "metadata": {},
   "outputs": [
    {
     "data": {
      "text/plain": [
       "3.141592653589793"
      ]
     },
     "execution_count": 19,
     "metadata": {},
     "output_type": "execute_result"
    }
   ],
   "source": [
    "acos(u ⋅ -u)"
   ]
  },
  {
   "cell_type": "code",
   "execution_count": 20,
   "metadata": {},
   "outputs": [
    {
     "data": {
      "image/png": "[encoded data removed]"
     },
     "execution_count": 20,
     "metadata": {},
     "output_type": "execute_result"
    }
   ],
   "source": [
    "A = [ 5f0,  0f0]\n",
    "B = [ 0f0,  5f0]\n",
    "C = [-5f0,  0f0]\n",
    "D = [ 0f0, -5f0]\n",
    "\n",
    "Wx, Wy = collect.(zip(A, B, C, D, A))\n",
    "\n",
    "u₁ = B - A\n",
    "u₁ = u₁ / norm(u₁)\n",
    "v₁ = [0 -1; 1 0] * u₁\n",
    "\n",
    "u₂ = C - B\n",
    "u₂ = u₂ / norm(u₂)\n",
    "v₂ = [0 -1; 1 0] * u₂\n",
    "\n",
    "u₃ = D - C\n",
    "u₃ = u₃ / norm(u₃)\n",
    "v₃ = [0 -1; 1 0] * u₃\n",
    "\n",
    "u₄ = A - D\n",
    "u₄ = u₄ / norm(u₄)\n",
    "v₄ = [0 -1; 1 0] * u₄\n",
    "\n",
    "M₁ = (A + B) / 2\n",
    "U₁ = M₁ + u₁\n",
    "V₁ = M₁ + v₁\n",
    "ux₁, uy₁ = collect.(zip(M₁, U₁))\n",
    "vx₁, vy₁ = collect.(zip(M₁, V₁))\n",
    "\n",
    "M₂  = (B + C) / 2\n",
    "U₂ = M₂ + u₂\n",
    "V₂ = M₂ + v₂\n",
    "ux₂, uy₂ = collect.(zip(M₂, U₂))\n",
    "vx₂, vy₂ = collect.(zip(M₂, V₂))\n",
    "\n",
    "M₃ = (C + D) / 2\n",
    "U₃ = M₃ + u₃\n",
    "V₃ = M₃ + v₃\n",
    "ux₃, uy₃ = collect.(zip(M₃, U₃))\n",
    "vx₃, vy₃ = collect.(zip(M₃, V₃))\n",
    "\n",
    "M₄ = (D + A) / 2\n",
    "U₄ = M₄ + u₄\n",
    "V₄ = M₄ + v₄\n",
    "ux₄, uy₄ = collect.(zip(M₄, U₄))\n",
    "vx₄, vy₄ = collect.(zip(M₄, V₄))\n",
    "\n",
    "P = [2f0, 1f0]\n",
    "θ = Float32(π)\n",
    "\n",
    "d₁ = (P - A) ⋅ v₁\n",
    "d₂ = (P - B) ⋅ v₂\n",
    "d₃ = (P - C) ⋅ v₃\n",
    "d₄ = (P - D) ⋅ v₄\n",
    "\n",
    "P₁ = P - d₁ * v₁\n",
    "P₂ = P - d₂ * v₂\n",
    "P₃ = P - d₃ * v₃\n",
    "P₄ = P - d₄ * v₄\n",
    "\n",
    "px₁, py₁ = collect.(zip(P₁, P))\n",
    "px₂, py₂ = collect.(zip(P₂, P))\n",
    "px₃, py₃ = collect.(zip(P₃, P))\n",
    "px₄, py₄ = collect.(zip(P₄, P))\n",
    "\n",
    "dx₁, dy₁ = (P + P₁) / 2 + [0.7, -0.3]\n",
    "dx₂, dy₂ = (P + P₂) / 2 + [0.7, 0.3]\n",
    "dx₃, dy₃ = (P + P₃) / 2 + [0.7, -0.3]\n",
    "dx₄, dy₄ = (P + P₄) / 2 + [0.7, 0.3]\n",
    "\n",
    "h = [cos(θ), sin(θ)]\n",
    "H = P + h\n",
    "\n",
    "∠₁ = acos(h ⋅ u₁)\n",
    "∠₂ = acos(h ⋅ u₂)\n",
    "∠₃ = acos(h ⋅ u₃)\n",
    "∠₄ = acos(h ⋅ u₄)\n",
    "\n",
    "∠°₁ = 180∠₁/π\n",
    "∠°₂ = 180∠₂/π\n",
    "∠°₃ = 180∠₃/π\n",
    "∠°₄ = 180∠₄/π\n",
    "\n",
    "plot(Wx, Wy; label=\"Wall\", plot_attrs...)\n",
    "plot!(ux₁, uy₁; label=\"\", arrow=:arrow, color=\"darkblue\")\n",
    "plot!(vx₁, vy₁; label=\"\", arrow=:arrow, color=\"darkblue\")\n",
    "plot!(ux₂, uy₂; label=\"\", arrow=:arrow, color=\"darkgreen\")\n",
    "plot!(vx₂, vy₂; label=\"\", arrow=:arrow, color=\"darkgreen\")\n",
    "plot!(ux₃, uy₃; label=\"\", arrow=:arrow, color=\"darkorange\")\n",
    "plot!(vx₃, vy₃; label=\"\", arrow=:arrow, color=\"darkorange\")\n",
    "plot!(ux₄, uy₄; label=\"\", arrow=:arrow, color=\"magenta\")\n",
    "plot!(vx₄, vy₄; label=\"\", arrow=:arrow, color=\"magenta\")\n",
    "\n",
    "plot!(px₁, py₁; label=\"\", color=\"darkblue\")\n",
    "annotate!(dx₁, dy₁, text(\"d=$(round(d₁; digits=2))\\n∠=$(round(∠°₁; digits=2))°\", 8, \"darkblue\"))\n",
    "plot!(px₂, py₂; label=\"\", color=\"darkgreen\")\n",
    "annotate!(dx₂, dy₂, text(\"d=$(round(d₂; digits=2))\\n∠=$(round(∠°₂; digits=2))°\", 8, \"darkgreen\"))\n",
    "plot!(px₃, py₃; label=\"\", color=\"darkorange\")\n",
    "annotate!(dx₃, dy₃, text(\"d=$(round(d₃; digits=2))\\n∠=$(round(∠°₃; digits=2))°\", 8, \"darkorange\"))\n",
    "plot!(px₄, py₄; label=\"\", color=\"magenta\")\n",
    "annotate!(dx₄, dy₄, text(\"d=$(round(d₄; digits=2))\\n∠=$(round(∠°₄; digits=2))°\", 8, \"magenta\"))\n",
    "\n",
    "plot!(collect.(zip(P, H))...; label=\"θ\", arrow=:arrow, color=\"darkred\")\n",
    "plot!([P[1]], [P[2]]; label=\"Robot\", seriestype=:scatter, color=\"darkred\")"
   ]
  },
  {
   "cell_type": "code",
   "execution_count": 21,
   "metadata": {},
   "outputs": [
    {
     "data": {
      "text/plain": [
       "World(Float32[5.0, 0.0], Float32[0.0, 5.0], Float32[-5.0, 0.0], Float32[0.0, -5.0], Float32[-0.70710677, 0.70710677], Float32[-0.70710677, -0.70710677], Float32[-0.70710677, -0.70710677], Float32[0.70710677, -0.70710677], Float32[0.70710677, -0.70710677], Float32[0.70710677, 0.70710677], Float32[0.70710677, 0.70710677], Float32[-0.70710677, 0.70710677])"
      ]
     },
     "execution_count": 21,
     "metadata": {},
     "output_type": "execute_result"
    }
   ],
   "source": [
    "struct World\n",
    "    A::Vector{Float32}\n",
    "    B::Vector{Float32}\n",
    "    C::Vector{Float32}\n",
    "    D::Vector{Float32}\n",
    "    u₁::Vector{Float32}\n",
    "    v₁::Vector{Float32}\n",
    "    u₂::Vector{Float32}\n",
    "    v₂::Vector{Float32}\n",
    "    u₃::Vector{Float32}\n",
    "    v₃::Vector{Float32}\n",
    "    u₄::Vector{Float32}\n",
    "    v₄::Vector{Float32}\n",
    "end\n",
    "\n",
    "function World(A::T, B::T, C::T, D::T) where T<:Vector{Float32}\n",
    "    u₁ = B - A\n",
    "    u₁ = u₁ / norm(u₁)\n",
    "    v₁ = [0 -1; 1 0] * u₁\n",
    "\n",
    "    u₂ = C - B\n",
    "    u₂ = u₂ / norm(u₂)\n",
    "    v₂ = [0 -1; 1 0] * u₂\n",
    "\n",
    "    u₃ = D - C\n",
    "    u₃ = u₃ / norm(u₃)\n",
    "    v₃ = [0 -1; 1 0] * u₃\n",
    "\n",
    "    u₄ = A - D\n",
    "    u₄ = u₄ / norm(u₄)\n",
    "    v₄ = [0 -1; 1 0] * u₄\n",
    "\n",
    "    return World(A, B, C, D, u₁, v₁, u₂, v₂, u₃, v₃, u₄, v₄)\n",
    "end\n",
    "\n",
    "w = World(A, B, C, D)"
   ]
  },
  {
   "cell_type": "code",
   "execution_count": 22,
   "metadata": {},
   "outputs": [
    {
     "data": {
      "text/plain": [
       "4-element Array{Float32,1}:\n",
       " 1.4142134\n",
       " 4.2426405\n",
       " 5.656854 \n",
       " 2.8284268"
      ]
     },
     "execution_count": 22,
     "metadata": {},
     "output_type": "execute_result"
    }
   ],
   "source": [
    "function wall_distances(w::World, x::T, y::T) where T<:Float32\n",
    "    P = [x, y]\n",
    "    d₁ = (P - w.A) ⋅ w.v₁\n",
    "    d₂ = (P - w.B) ⋅ w.v₂\n",
    "    d₃ = (P - w.C) ⋅ w.v₃\n",
    "    d₄ = (P - w.D) ⋅ w.v₄\n",
    "    return [d₁, d₂, d₃, d₄]\n",
    "end\n",
    "\n",
    "d = wall_distances(w, P...)"
   ]
  },
  {
   "cell_type": "code",
   "execution_count": 23,
   "metadata": {},
   "outputs": [
    {
     "data": {
      "text/plain": [
       "4-element Array{Float32,1}:\n",
       " 0.78539824\n",
       " 0.78539807\n",
       " 2.3561945 \n",
       " 2.3561945 "
      ]
     },
     "execution_count": 23,
     "metadata": {},
     "output_type": "execute_result"
    }
   ],
   "source": [
    "function wall_angles(w::World, θ::Float32)\n",
    "    h = [cos(θ), sin(θ)]\n",
    "    ∠₁ = acos(h ⋅ w.u₁)\n",
    "    ∠₂ = acos(h ⋅ w.u₂)\n",
    "    ∠₃ = acos(h ⋅ w.u₃)\n",
    "    ∠₄ = acos(h ⋅ w.u₄)\n",
    "    return [∠₁, ∠₂, ∠₃, ∠₄]\n",
    "end\n",
    "\n",
    "∠ = wall_angles(w, θ)"
   ]
  },
  {
   "cell_type": "code",
   "execution_count": 24,
   "metadata": {},
   "outputs": [
    {
     "name": "stdout",
     "output_type": "stream",
     "text": [
      "Simulation stopped...\n",
      "Simulation started...\n",
      "Connected to remoteApi server.\n",
      "Pioneer_p3dx_ultrasonicSensor1 connected.\n",
      "Pioneer_p3dx_ultrasonicSensor2 connected.\n",
      "Pioneer_p3dx_ultrasonicSensor3 connected.\n",
      "Pioneer_p3dx_ultrasonicSensor4 connected.\n",
      "Pioneer_p3dx_ultrasonicSensor5 connected.\n",
      "Pioneer_p3dx_ultrasonicSensor6 connected.\n",
      "Pioneer_p3dx_ultrasonicSensor7 connected.\n",
      "Pioneer_p3dx_ultrasonicSensor8 connected.\n",
      "Pioneer_p3dx_ultrasonicSensor9 connected.\n",
      "Pioneer_p3dx_ultrasonicSensor10 connected.\n",
      "Pioneer_p3dx_ultrasonicSensor11 connected.\n",
      "Pioneer_p3dx_ultrasonicSensor12 connected.\n",
      "Pioneer_p3dx_ultrasonicSensor13 connected.\n",
      "Pioneer_p3dx_ultrasonicSensor14 connected.\n",
      "Pioneer_p3dx_ultrasonicSensor15 connected.\n",
      "Pioneer_p3dx_ultrasonicSensor16 connected.\n",
      "Laser connected.\n",
      "Vision sensor not connected.\n",
      "Left motor connected.\n",
      "Right motor connected.\n",
      "Robot connected.\n"
     ]
    },
    {
     "data": {
      "text/plain": [
       "Robot(0, Int32[52, 51, 50, 49, 48, 47, 46, 45, 60, 59, 58, 57, 56, 55, 54, 53], 72, 0, Dict(:left => 35,:right => 32), 31, 0.381f0, 0.0975f0)"
      ]
     },
     "execution_count": 24,
     "metadata": {},
     "output_type": "execute_result"
    }
   ],
   "source": [
    "reset_simulation()\n",
    "\n",
    "robot = Robot()"
   ]
  },
  {
   "cell_type": "code",
   "execution_count": 25,
   "metadata": {},
   "outputs": [
    {
     "data": {
      "text/plain": [
       "(-0.00039881468f0, -2.57206f-6, 2.9995927f-5)"
      ]
     },
     "execution_count": 25,
     "metadata": {},
     "output_type": "execute_result"
    }
   ],
   "source": [
    "x, y, θ = pose2D(robot)"
   ]
  },
  {
   "cell_type": "code",
   "execution_count": 26,
   "metadata": {},
   "outputs": [
    {
     "data": {
      "image/png": "[encoded data removed]"
     },
     "execution_count": 26,
     "metadata": {},
     "output_type": "execute_result"
    }
   ],
   "source": [
    "P = [x, y]\n",
    "h = [cos(θ), sin(θ)]\n",
    "H = P + h\n",
    "\n",
    "Px, Py = collect.(zip(P, H))\n",
    "\n",
    "Wx, Wy = collect.(zip(w.A, w.B, w.C, w.D, w.A))\n",
    "\n",
    "plot(Wx, Wy; label=\"Wall\", plot_attrs...)\n",
    "plot!(Px, Py; label=\"\", arrow=:arrow)\n",
    "plot!([x], [y]; label=\"Robot\", seriestype=:scatter)"
   ]
  },
  {
   "cell_type": "code",
   "execution_count": 27,
   "metadata": {},
   "outputs": [
    {
     "data": {
      "image/png": "[encoded data removed]"
     },
     "execution_count": 27,
     "metadata": {},
     "output_type": "execute_result"
    }
   ],
   "source": [
    "ω = 1.0 # rads per second\n",
    "\n",
    "τx = zeros(Float32, 0)\n",
    "τy = zeros(Float32, 0)\n",
    "\n",
    "for _=1:20\n",
    "    x_, y_, _ = pose2D(robot)\n",
    "    push!(τx, x_)\n",
    "    push!(τy, y_)\n",
    "\n",
    "    set_right_velocity(robot, ω/5)\n",
    "    set_left_velocity(robot, -ω/5)\n",
    "    sleep(5)\n",
    "\n",
    "    set_right_velocity(robot, ω)\n",
    "    set_left_velocity(robot, ω)\n",
    "\n",
    "    for _=1:10\n",
    "        sleep(1)\n",
    "        x_, y_, _ = pose2D(robot)\n",
    "        push!(τx, x_)\n",
    "        push!(τy, y_)\n",
    "    end\n",
    "end\n",
    "\n",
    "stop(robot)\n",
    "\n",
    "x, y, θ = pose2D(robot)\n",
    "P = [x, y]\n",
    "h = [cos(θ), sin(θ)]\n",
    "H = P + h\n",
    "\n",
    "Px, Py = collect.(zip(P, H))\n",
    "\n",
    "Wx, Wy = collect.(zip(w.A, w.B, w.C, w.D, w.A))\n",
    "\n",
    "plot(Wx, Wy; label=\"Wall\", plot_attrs...)\n",
    "plot!(Px, Py; label=\"\", arrow=:arrow)\n",
    "plot!([x], [y]; label=\"Robot\", seriestype=:scatter)\n",
    "plot!(τx, τy; label=\"\")"
   ]
  },
  {
   "cell_type": "code",
   "execution_count": 28,
   "metadata": {},
   "outputs": [
    {
     "name": "stdout",
     "output_type": "stream",
     "text": [
      "Simulation stopped...\n",
      "Simulation started...\n",
      "Connected to remoteApi server.\n",
      "Pioneer_p3dx_ultrasonicSensor1 connected.\n",
      "Pioneer_p3dx_ultrasonicSensor2 connected.\n",
      "Pioneer_p3dx_ultrasonicSensor3 connected.\n",
      "Pioneer_p3dx_ultrasonicSensor4 connected.\n",
      "Pioneer_p3dx_ultrasonicSensor5 connected.\n",
      "Pioneer_p3dx_ultrasonicSensor6 connected.\n",
      "Pioneer_p3dx_ultrasonicSensor7 connected.\n",
      "Pioneer_p3dx_ultrasonicSensor8 connected.\n",
      "Pioneer_p3dx_ultrasonicSensor9 connected.\n",
      "Pioneer_p3dx_ultrasonicSensor10 connected.\n",
      "Pioneer_p3dx_ultrasonicSensor11 connected.\n",
      "Pioneer_p3dx_ultrasonicSensor12 connected.\n",
      "Pioneer_p3dx_ultrasonicSensor13 connected.\n",
      "Pioneer_p3dx_ultrasonicSensor14 connected.\n",
      "Pioneer_p3dx_ultrasonicSensor15 connected.\n",
      "Pioneer_p3dx_ultrasonicSensor16 connected.\n",
      "Laser connected.\n",
      "Vision sensor not connected.\n",
      "Left motor connected.\n",
      "Right motor connected.\n",
      "Robot connected.\n",
      "d_min=3.459041, ∠_min=2.0577252\n",
      "moving straight (too far)\n",
      "d_min=3.3513505, ∠_min=2.0577133\n",
      "moving straight (too far)\n",
      "d_min=3.2652001, ∠_min=2.0577064\n",
      "moving straight (too far)\n",
      "d_min=3.1790311, ∠_min=2.0576987\n",
      "moving straight (too far)\n",
      "d_min=3.0929046, ∠_min=2.057712\n",
      "moving straight (too far)\n",
      "d_min=3.006723, ∠_min=2.0576534\n",
      "moving straight (too far)\n",
      "d_min=2.920574, ∠_min=2.0576587\n",
      "moving straight (too far)\n",
      "d_min=2.8344133, ∠_min=2.057662\n",
      "moving straight (too far)\n",
      "d_min=2.7482646, ∠_min=2.05766\n",
      "moving straight (too far)\n",
      "d_min=2.6621203, ∠_min=2.0576713\n",
      "moving straight (too far)\n",
      "d_min=2.575973, ∠_min=2.0577123\n",
      "moving straight (too far)\n",
      "d_min=2.4898148, ∠_min=2.0576558\n",
      "moving straight (too far)\n",
      "d_min=2.403657, ∠_min=2.0576448\n",
      "moving straight (too far)\n",
      "d_min=2.3175273, ∠_min=2.0576637\n",
      "moving straight (too far)\n",
      "d_min=2.2313588, ∠_min=2.0576646\n",
      "moving straight (too far)\n",
      "d_min=2.1452174, ∠_min=2.0576656\n",
      "moving straight (too far)\n",
      "d_min=2.059062, ∠_min=2.0576324\n",
      "moving straight (too far)\n",
      "d_min=1.9729171, ∠_min=2.0575898\n",
      "moving straight (too far)\n",
      "d_min=1.8867548, ∠_min=2.0575898\n",
      "moving straight (too far)\n",
      "d_min=1.8006246, ∠_min=2.0575802\n",
      "moving straight (too far)\n",
      "d_min=1.71442, ∠_min=2.0576017\n",
      "moving straight (too far)\n",
      "d_min=1.6282632, ∠_min=2.0575824\n",
      "moving straight (too far)\n",
      "d_min=1.5421162, ∠_min=2.0575833\n",
      "moving straight (too far)\n",
      "d_min=1.455965, ∠_min=2.0575428\n",
      "moving straight (too far)\n",
      "d_min=1.3697963, ∠_min=2.0575457\n",
      "moving straight (too far)\n",
      "d_min=1.2836401, ∠_min=2.0575502\n",
      "moving straight (too far)\n",
      "d_min=1.1974943, ∠_min=2.0575607\n",
      "moving straight (too far)\n",
      "d_min=1.1113212, ∠_min=2.0575805\n",
      "moving straight (too far)\n",
      "d_min=1.0251567, ∠_min=2.0575743\n",
      "moving straight (too far)\n",
      "d_min=0.93900836, ∠_min=2.0575666\n",
      "turning close\n",
      "right\n",
      "d_min=0.8374495, ∠_min=2.1628504\n",
      "turning close\n",
      "right\n",
      "d_min=0.73738277, ∠_min=2.3094714\n",
      "turning close\n",
      "right\n",
      "d_min=0.64858466, ∠_min=2.4571888\n",
      "turning close\n",
      "right\n",
      "d_min=0.5732178, ∠_min=2.6053433\n",
      "turning close\n",
      "right\n",
      "d_min=0.5138835, ∠_min=2.7638297\n",
      "turning close\n",
      "right\n",
      "d_min=0.4718172, ∠_min=2.9221709\n",
      "turning away\n",
      "left\n",
      "d_min=0.455298, ∠_min=2.8714137\n",
      "turning away\n",
      "left\n",
      "d_min=0.4361176, ∠_min=2.7183793\n",
      "turning away\n",
      "left\n",
      "d_min=0.40660334, ∠_min=2.57466\n",
      "turning away\n",
      "left\n",
      "d_min=0.36745474, ∠_min=2.432379\n",
      "turning away\n",
      "left\n",
      "d_min=0.3200538, ∠_min=2.2868285\n",
      "turning away\n",
      "left\n",
      "d_min=0.26458666, ∠_min=2.1429398\n",
      "turning away\n",
      "left\n",
      "d_min=0.20287699, ∠_min=1.9970697\n",
      "turning away\n",
      "left\n",
      "d_min=0.13632822, ∠_min=1.849092\n",
      "turning away\n",
      "left\n",
      "d_min=0.06557453, ∠_min=1.7015127\n",
      "turning away\n",
      "left\n",
      "d_min=-0.008274794, ∠_min=1.5564134\n",
      "Stopped at Wall!\n"
     ]
    },
    {
     "data": {
      "image/png": "[encoded data removed]"
     },
     "execution_count": 28,
     "metadata": {},
     "output_type": "execute_result"
    }
   ],
   "source": [
    "release(robot)\n",
    "reset_simulation()\n",
    "\n",
    "robot = Robot()\n",
    "\n",
    "D_target = 0.5 # meters\n",
    "D_toofar = 1.0\n",
    "ω = 1.0 # rads per second\n",
    "Δω = 0.5\n",
    "\n",
    "function turn_left()\n",
    "    println(\"left\")\n",
    "    set_left_velocity(robot, ω - Δω)\n",
    "end\n",
    "\n",
    "function turn_right()\n",
    "    set_left_velocity(robot, ω + Δω)\n",
    "    println(\"right\")\n",
    "end\n",
    "\n",
    "function turn_away(∠)\n",
    "    if ∠ >= π/2\n",
    "        turn_left()\n",
    "    else\n",
    "        turn_right()\n",
    "    end\n",
    "end\n",
    "\n",
    "function turn_close(∠)\n",
    "    if ∠ < π/2\n",
    "        turn_left()\n",
    "    else\n",
    "        turn_right()\n",
    "    end\n",
    "end\n",
    "\n",
    "function move_straight()\n",
    "    set_left_velocity(robot, ω)\n",
    "end\n",
    "\n",
    "τx = zeros(Float32, 0)\n",
    "τy = zeros(Float32, 0)\n",
    "\n",
    "x_, y_, _ = pose2D(robot)\n",
    "push!(τx, x_)\n",
    "push!(τy, y_)\n",
    "\n",
    "set_right_velocity(robot, ω/10)\n",
    "set_left_velocity(robot, -ω/10)\n",
    "sleep(5)\n",
    "\n",
    "set_right_velocity(robot, ω)\n",
    "set_left_velocity(robot, ω)\n",
    "sleep(1)\n",
    "\n",
    "for _=1:120\n",
    "    x_, y_, θ_ = pose2D(robot)\n",
    "    push!(τx, x_)\n",
    "    push!(τy, y_)\n",
    "\n",
    "    d_ = wall_distances(w, x_, y_)\n",
    "    ∠_ = wall_angles(w, θ_)\n",
    "    \n",
    "    d_min, wall_index = findmin(d_)\n",
    "    ∠_min = ∠_[wall_index]\n",
    "\n",
    "    println(\"d_min=$(d_min), ∠_min=$(∠_min)\")\n",
    "    if d_min <= 0\n",
    "        println(\"Stopped at Wall!\")\n",
    "        stop(robot)\n",
    "        break\n",
    "    elseif d_min > D_toofar\n",
    "        println(\"moving straight (too far)\")\n",
    "        move_straight()\n",
    "    elseif d_min ≈ D_target\n",
    "        println(\"moving straight (on target)\")\n",
    "        move_straight()\n",
    "    elseif d_min < D_target\n",
    "        println(\"turning away\")\n",
    "        turn_away(∠_min)\n",
    "    elseif d_min > D_target\n",
    "        println(\"turning close\")\n",
    "        turn_close(∠_min)\n",
    "    end\n",
    "    sleep(1)\n",
    "end\n",
    "\n",
    "stop(robot)\n",
    "\n",
    "x, y, θ = pose2D(robot)\n",
    "P = [x, y]\n",
    "h = [cos(θ), sin(θ)]\n",
    "H = P + h\n",
    "\n",
    "Px, Py = collect.(zip(P, H))\n",
    "\n",
    "Wx, Wy = collect.(zip(w.A, w.B, w.C, w.D, w.A))\n",
    "\n",
    "plot(Wx, Wy; label=\"Wall\", plot_attrs...)\n",
    "plot!(Px, Py; label=\"\", arrow=:arrow)\n",
    "plot!([x], [y]; label=\"Robot\", seriestype=:scatter)\n",
    "plot!(τx, τy; label=\"\")"
   ]
  },
  {
   "cell_type": "code",
   "execution_count": 29,
   "metadata": {},
   "outputs": [],
   "source": [
    "#release(robot)"
   ]
  },
  {
   "cell_type": "code",
   "execution_count": null,
   "metadata": {},
   "outputs": [],
   "source": []
  }
 ],
 "metadata": {
  "colab": {
   "collapsed_sections": [],
   "include_colab_link": true,
   "name": "Controller - PID (draft).ipynb",
   "provenance": []
  },
  "kernelspec": {
   "display_name": "Julia 1.2.0",
   "language": "julia",
   "name": "julia-1.2"
  },
  "language_info": {
   "file_extension": ".jl",
   "mimetype": "application/julia",
   "name": "julia",
   "version": "1.2.0"
  }
 },
 "nbformat": 4,
 "nbformat_minor": 4
}
