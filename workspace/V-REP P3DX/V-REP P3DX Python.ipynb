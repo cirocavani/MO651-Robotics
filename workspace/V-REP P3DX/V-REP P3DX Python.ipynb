{
 "cells": [
  {
   "cell_type": "code",
   "execution_count": 1,
   "metadata": {},
   "outputs": [],
   "source": [
    "%matplotlib inline\n",
    "\n",
    "import time\n",
    "import numpy as np\n",
    "from matplotlib import pyplot as plt"
   ]
  },
  {
   "cell_type": "code",
   "execution_count": 2,
   "metadata": {},
   "outputs": [
    {
     "name": "stdout",
     "output_type": "stream",
     "text": [
      "Simulation stopped...\n",
      "Simulation started...\n",
      "Connected to remoteApi server.\n",
      "\u001b[92m Pioneer_p3dx_ultrasonicSensor1 connected.\n",
      "\u001b[92m Pioneer_p3dx_ultrasonicSensor2 connected.\n",
      "\u001b[92m Pioneer_p3dx_ultrasonicSensor3 connected.\n",
      "\u001b[92m Pioneer_p3dx_ultrasonicSensor4 connected.\n",
      "\u001b[92m Pioneer_p3dx_ultrasonicSensor5 connected.\n",
      "\u001b[92m Pioneer_p3dx_ultrasonicSensor6 connected.\n",
      "\u001b[92m Pioneer_p3dx_ultrasonicSensor7 connected.\n",
      "\u001b[92m Pioneer_p3dx_ultrasonicSensor8 connected.\n",
      "\u001b[92m Pioneer_p3dx_ultrasonicSensor9 connected.\n",
      "\u001b[92m Pioneer_p3dx_ultrasonicSensor10 connected.\n",
      "\u001b[92m Pioneer_p3dx_ultrasonicSensor11 connected.\n",
      "\u001b[92m Pioneer_p3dx_ultrasonicSensor12 connected.\n",
      "\u001b[92m Pioneer_p3dx_ultrasonicSensor13 connected.\n",
      "\u001b[92m Pioneer_p3dx_ultrasonicSensor14 connected.\n",
      "\u001b[92m Pioneer_p3dx_ultrasonicSensor15 connected.\n",
      "\u001b[92m Pioneer_p3dx_ultrasonicSensor16 connected.\n",
      "\u001b[92m Vision sensor connected.\n",
      "\u001b[92m Laser connected.\n",
      "\u001b[92m Left motor connected.\n",
      "\u001b[92m Right motor connected.\n",
      "\u001b[92m Robot connected.\n"
     ]
    }
   ],
   "source": [
    "from robotics import Robot, reset, release\n",
    "\n",
    "reset()\n",
    "\n",
    "robot = Robot()"
   ]
  },
  {
   "cell_type": "markdown",
   "metadata": {},
   "source": [
    "**Reading ultrasonic sensors**"
   ]
  },
  {
   "cell_type": "code",
   "execution_count": 3,
   "metadata": {},
   "outputs": [
    {
     "name": "stdout",
     "output_type": "stream",
     "text": [
      "Help on function read_ultrasonic_sensors in module robotics.p3dx:\n",
      "\n",
      "read_ultrasonic_sensors(self)\n",
      "    Reads the distances from the 16 ultrasonic sensors.\n",
      "    Returns:\n",
      "        distances: List with the distances in meters.\n",
      "\n"
     ]
    }
   ],
   "source": [
    "help(Robot.read_ultrasonic_sensors)"
   ]
  },
  {
   "cell_type": "code",
   "execution_count": 4,
   "metadata": {},
   "outputs": [
    {
     "name": "stdout",
     "output_type": "stream",
     "text": [
      "Ultrasonic : [5.0, 5.0, 5.0, 5.0, 5.0, 5.0, 5.0, 5.0, 5.0, 0.5883663892745972, 0.4595743715763092, 0.4455883204936981, 5.0, 5.0, 5.0, 5.0]\n"
     ]
    }
   ],
   "source": [
    "ultrasonic = robot.read_ultrasonic_sensors()\n",
    "print(\"Ultrasonic :\", ultrasonic)"
   ]
  },
  {
   "cell_type": "code",
   "execution_count": 5,
   "metadata": {},
   "outputs": [
    {
     "data": {
      "text/plain": [
       "16"
      ]
     },
     "execution_count": 5,
     "metadata": {},
     "output_type": "execute_result"
    }
   ],
   "source": [
    "len(ultrasonic)"
   ]
  },
  {
   "cell_type": "code",
   "execution_count": 6,
   "metadata": {},
   "outputs": [
    {
     "data": {
      "text/plain": [
       "float"
      ]
     },
     "execution_count": 6,
     "metadata": {},
     "output_type": "execute_result"
    }
   ],
   "source": [
    "type(ultrasonic[0])"
   ]
  },
  {
   "cell_type": "markdown",
   "metadata": {},
   "source": [
    "**Reading laser sensor**"
   ]
  },
  {
   "cell_type": "code",
   "execution_count": 7,
   "metadata": {},
   "outputs": [
    {
     "name": "stdout",
     "output_type": "stream",
     "text": [
      "Help on function read_laser in module robotics.p3dx:\n",
      "\n",
      "read_laser(self)\n",
      "    Gets the 572 points read by the laser sensor. Each reading contains 3 values (x, y, z) of the point relative to the sensor position.\n",
      "    Returns:\n",
      "        laser: List with 1716 values of x, y and z from each point.\n",
      "\n"
     ]
    }
   ],
   "source": [
    "help(Robot.read_laser)"
   ]
  },
  {
   "cell_type": "code",
   "execution_count": 8,
   "metadata": {},
   "outputs": [
    {
     "name": "stdout",
     "output_type": "stream",
     "text": [
      "Laser (10) : [-2.414828300476074, -4.182604789733887, 0.06299993395805359, -2.38266658782959, -4.186064720153809, 0.06299993395805359, -2.3510639667510986, -4.19019889831543, 0.06299993395805359, -2.310744047164917, -4.178267955780029, 0.06299993395805359, -2.2802398204803467, -4.1835784912109375, 0.06299993395805359, -2.250264883041382, -4.189615249633789, 0.06299993395805359, -2.211644411087036, -4.179083824157715, 0.06299992650747299, -2.1826322078704834, -4.186253547668457, 0.06299992650747299, -2.1450998783111572, -4.176644325256348, 0.06299992650747299, -2.1169698238372803, -4.184922218322754, 0.06299992650747299]\n"
     ]
    }
   ],
   "source": [
    "laser = robot.read_laser()\n",
    "print(\"Laser (10) :\", laser[:30])"
   ]
  },
  {
   "cell_type": "code",
   "execution_count": 9,
   "metadata": {},
   "outputs": [
    {
     "data": {
      "text/plain": [
       "1239"
      ]
     },
     "execution_count": 9,
     "metadata": {},
     "output_type": "execute_result"
    }
   ],
   "source": [
    "len(laser)"
   ]
  },
  {
   "cell_type": "code",
   "execution_count": 10,
   "metadata": {},
   "outputs": [
    {
     "data": {
      "text/plain": [
       "413"
      ]
     },
     "execution_count": 10,
     "metadata": {},
     "output_type": "execute_result"
    }
   ],
   "source": [
    "len(laser) // 3"
   ]
  },
  {
   "cell_type": "code",
   "execution_count": 11,
   "metadata": {},
   "outputs": [
    {
     "data": {
      "text/plain": [
       "float"
      ]
     },
     "execution_count": 11,
     "metadata": {},
     "output_type": "execute_result"
    }
   ],
   "source": [
    "type(laser[0])"
   ]
  },
  {
   "cell_type": "markdown",
   "metadata": {},
   "source": [
    "**Reading camera**"
   ]
  },
  {
   "cell_type": "code",
   "execution_count": 12,
   "metadata": {},
   "outputs": [
    {
     "name": "stdout",
     "output_type": "stream",
     "text": [
      "Help on function read_vision_sensor in module robotics.p3dx:\n",
      "\n",
      "read_vision_sensor(self)\n",
      "    Reads the image raw data from vrep vision sensor.\n",
      "    Returns:\n",
      "        resolution: Tuple with the image resolution.\n",
      "        image: List with the image data.\n",
      "\n"
     ]
    }
   ],
   "source": [
    "help(Robot.read_vision_sensor)"
   ]
  },
  {
   "cell_type": "code",
   "execution_count": 13,
   "metadata": {},
   "outputs": [
    {
     "data": {
      "image/png": "[encoded data removed]",
      "text/plain": [
       "<Figure size 1440x720 with 1 Axes>"
      ]
     },
     "metadata": {},
     "output_type": "display_data"
    }
   ],
   "source": [
    "from robotics import vrep2array\n",
    "\n",
    "resolution, raw_img = robot.read_vision_sensor()\n",
    "img = vrep2array(raw_img, resolution)\n",
    "\n",
    "plt.figure(figsize=(20,10))\n",
    "plt.imshow(img)\n",
    "plt.xticks([])\n",
    "plt.yticks([])\n",
    "plt.show()"
   ]
  },
  {
   "cell_type": "markdown",
   "metadata": {},
   "source": [
    "**Position and Locomotion**"
   ]
  },
  {
   "cell_type": "code",
   "execution_count": 14,
   "metadata": {},
   "outputs": [
    {
     "name": "stdout",
     "output_type": "stream",
     "text": [
      "Help on function get_current_position in module robotics.p3dx:\n",
      "\n",
      "get_current_position(self)\n",
      "    Gives the current robot position on the environment.\n",
      "    Returns:\n",
      "        position: Array with the (x,y,z) coordinates.\n",
      "\n"
     ]
    }
   ],
   "source": [
    "help(Robot.get_current_position)"
   ]
  },
  {
   "cell_type": "code",
   "execution_count": 15,
   "metadata": {},
   "outputs": [
    {
     "data": {
      "text/plain": [
       "[-2.0253958702087402, -0.8249890208244324, 0.13868042826652527]"
      ]
     },
     "execution_count": 15,
     "metadata": {},
     "output_type": "execute_result"
    }
   ],
   "source": [
    "position = robot.get_current_position()\n",
    "\n",
    "position"
   ]
  },
  {
   "cell_type": "code",
   "execution_count": 16,
   "metadata": {},
   "outputs": [
    {
     "name": "stdout",
     "output_type": "stream",
     "text": [
      "Help on function get_current_orientation in module robotics.p3dx:\n",
      "\n",
      "get_current_orientation(self)\n",
      "    Gives the current robot orientation on the environment.\n",
      "    Returns:\n",
      "        orientation: Array with the euler angles (alpha, beta and gamma).\n",
      "\n"
     ]
    }
   ],
   "source": [
    "help(Robot.get_current_orientation)"
   ]
  },
  {
   "cell_type": "code",
   "execution_count": 17,
   "metadata": {},
   "outputs": [
    {
     "data": {
      "text/plain": [
       "[-8.337745384778827e-05, -0.0020511846523731947, -5.264692663331516e-05]"
      ]
     },
     "execution_count": 17,
     "metadata": {},
     "output_type": "execute_result"
    }
   ],
   "source": [
    "orientation = robot.get_current_orientation()\n",
    "\n",
    "orientation"
   ]
  },
  {
   "cell_type": "code",
   "execution_count": 18,
   "metadata": {},
   "outputs": [
    {
     "name": "stdout",
     "output_type": "stream",
     "text": [
      "Help on function set_right_velocity in module robotics.p3dx:\n",
      "\n",
      "set_right_velocity(self, vel)\n",
      "    Sets the velocity on the right motor.\n",
      "    Args:\n",
      "        vel: The velocity to be applied in the motor (rad/s)\n",
      "\n",
      "Help on function set_left_velocity in module robotics.p3dx:\n",
      "\n",
      "set_left_velocity(self, vel)\n",
      "    Sets the velocity on the left motor.\n",
      "    Args:\n",
      "        vel: The velocity to be applied in the motor (rad/s)\n",
      "\n",
      "Help on function set_velocity in module robotics.p3dx:\n",
      "\n",
      "set_velocity(self, V, W)\n",
      "    Sets a linear and a angular velocity on the robot.\n",
      "    Args:\n",
      "        V: Linear velocity (m/s) to be applied on the robot along its longitudinal axis.\n",
      "        W: Angular velocity (rad/s) to be applied on the robot along its axis of rotation, positive in the counter-clockwise direction.\n",
      "\n"
     ]
    }
   ],
   "source": [
    "help(Robot.set_right_velocity)\n",
    "help(Robot.set_left_velocity)\n",
    "help(Robot.set_velocity)"
   ]
  },
  {
   "cell_type": "markdown",
   "metadata": {},
   "source": [
    "**Simulation Tuning**\n",
    "\n",
    "Custom settings.\n",
    "\n",
    "* Time step = 250ms\n",
    "* Real-time simulation enabled (w/ 'try catching up')\n",
    "\n",
    "This settings work better to sync theoretical time and simulation time."
   ]
  },
  {
   "cell_type": "code",
   "execution_count": 19,
   "metadata": {},
   "outputs": [
    {
     "data": {
      "text/plain": [
       "0.0975"
      ]
     },
     "execution_count": 19,
     "metadata": {},
     "output_type": "execute_result"
    }
   ],
   "source": [
    "R = robot.WHEEL_RADIUS\n",
    "\n",
    "R"
   ]
  },
  {
   "cell_type": "code",
   "execution_count": 20,
   "metadata": {},
   "outputs": [
    {
     "data": {
      "text/plain": [
       "0.1905"
      ]
     },
     "execution_count": 20,
     "metadata": {},
     "output_type": "execute_result"
    }
   ],
   "source": [
    "L = robot.ROBOT_WIDTH / 2\n",
    "\n",
    "L"
   ]
  },
  {
   "cell_type": "markdown",
   "metadata": {},
   "source": [
    "...\n",
    "\n",
    "*Translation Analysis*\n",
    "\n",
    "Evaluate the fidelity of the simulation related to expected results from kinematic model.\n",
    "\n",
    "The case is to move the robot in a straight line for 5 meters in the expected time."
   ]
  },
  {
   "cell_type": "code",
   "execution_count": 21,
   "metadata": {},
   "outputs": [
    {
     "data": {
      "text/plain": [
       "51.28205128205128"
      ]
     },
     "execution_count": 21,
     "metadata": {},
     "output_type": "execute_result"
    }
   ],
   "source": [
    "s = 5.0 # meters\n",
    "w = 1.0 # rads per second\n",
    "\n",
    "T = s / (w * R) # seconds\n",
    "\n",
    "T"
   ]
  },
  {
   "cell_type": "code",
   "execution_count": 22,
   "metadata": {},
   "outputs": [
    {
     "name": "stdout",
     "output_type": "stream",
     "text": [
      "Simulation stopped...\n",
      "Simulation started...\n",
      "Connected to remoteApi server.\n",
      "\u001b[92m Pioneer_p3dx_ultrasonicSensor1 connected.\n",
      "\u001b[92m Pioneer_p3dx_ultrasonicSensor2 connected.\n",
      "\u001b[92m Pioneer_p3dx_ultrasonicSensor3 connected.\n",
      "\u001b[92m Pioneer_p3dx_ultrasonicSensor4 connected.\n",
      "\u001b[92m Pioneer_p3dx_ultrasonicSensor5 connected.\n",
      "\u001b[92m Pioneer_p3dx_ultrasonicSensor6 connected.\n",
      "\u001b[92m Pioneer_p3dx_ultrasonicSensor7 connected.\n",
      "\u001b[92m Pioneer_p3dx_ultrasonicSensor8 connected.\n",
      "\u001b[92m Pioneer_p3dx_ultrasonicSensor9 connected.\n",
      "\u001b[92m Pioneer_p3dx_ultrasonicSensor10 connected.\n",
      "\u001b[92m Pioneer_p3dx_ultrasonicSensor11 connected.\n",
      "\u001b[92m Pioneer_p3dx_ultrasonicSensor12 connected.\n",
      "\u001b[92m Pioneer_p3dx_ultrasonicSensor13 connected.\n",
      "\u001b[92m Pioneer_p3dx_ultrasonicSensor14 connected.\n",
      "\u001b[92m Pioneer_p3dx_ultrasonicSensor15 connected.\n",
      "\u001b[92m Pioneer_p3dx_ultrasonicSensor16 connected.\n",
      "\u001b[92m Vision sensor connected.\n",
      "\u001b[92m Laser connected.\n",
      "\u001b[92m Left motor connected.\n",
      "\u001b[92m Right motor connected.\n",
      "\u001b[92m Robot connected.\n",
      "Position Initial  : [-2.02534461 -0.82498825  0.13867822]\n",
      "Position Final    : [ 2.94288182 -0.82635897  0.13870373]\n",
      "Position Stop     : [ 2.97062159 -0.82638633  0.13870129]\n",
      "Distance Expected : 5.0\n",
      "Distance Actual   : 4.968226621956935\n",
      "Distance Stop     : 0.027739776858799668\n",
      "Time Expected     : 51.28205128205128\n",
      "Time Actual       : 51.33324909210205\n"
     ]
    }
   ],
   "source": [
    "release(robot)\n",
    "reset()\n",
    "\n",
    "robot = Robot()\n",
    "\n",
    "a = np.array(robot.get_current_position())\n",
    "t0 = time.time()\n",
    "\n",
    "robot.set_right_velocity(w)\n",
    "robot.set_left_velocity(w)\n",
    "time.sleep(T)\n",
    "\n",
    "t1 = time.time()\n",
    "\n",
    "b = np.array(robot.get_current_position())\n",
    "D = np.linalg.norm(a-b)\n",
    "\n",
    "robot.stop()\n",
    "time.sleep(0.5)\n",
    "\n",
    "c = np.array(robot.get_current_position())\n",
    "D_ = np.linalg.norm(b-c)\n",
    "\n",
    "print(\"Position Initial  :\", a)\n",
    "print(\"Position Final    :\", b)\n",
    "print(\"Position Stop     :\", c)\n",
    "print(\"Distance Expected :\", s)\n",
    "print(\"Distance Actual   :\", D)\n",
    "print(\"Distance Stop     :\", D_)\n",
    "print(\"Time Expected     :\", T)\n",
    "print(\"Time Actual       :\", t1 - t0)"
   ]
  },
  {
   "cell_type": "code",
   "execution_count": 23,
   "metadata": {},
   "outputs": [
    {
     "name": "stdout",
     "output_type": "stream",
     "text": [
      "Simulation stopped...\n",
      "Simulation started...\n",
      "Connected to remoteApi server.\n",
      "\u001b[92m Pioneer_p3dx_ultrasonicSensor1 connected.\n",
      "\u001b[92m Pioneer_p3dx_ultrasonicSensor2 connected.\n",
      "\u001b[92m Pioneer_p3dx_ultrasonicSensor3 connected.\n",
      "\u001b[92m Pioneer_p3dx_ultrasonicSensor4 connected.\n",
      "\u001b[92m Pioneer_p3dx_ultrasonicSensor5 connected.\n",
      "\u001b[92m Pioneer_p3dx_ultrasonicSensor6 connected.\n",
      "\u001b[92m Pioneer_p3dx_ultrasonicSensor7 connected.\n",
      "\u001b[92m Pioneer_p3dx_ultrasonicSensor8 connected.\n",
      "\u001b[92m Pioneer_p3dx_ultrasonicSensor9 connected.\n",
      "\u001b[92m Pioneer_p3dx_ultrasonicSensor10 connected.\n",
      "\u001b[92m Pioneer_p3dx_ultrasonicSensor11 connected.\n",
      "\u001b[92m Pioneer_p3dx_ultrasonicSensor12 connected.\n",
      "\u001b[92m Pioneer_p3dx_ultrasonicSensor13 connected.\n",
      "\u001b[92m Pioneer_p3dx_ultrasonicSensor14 connected.\n",
      "\u001b[92m Pioneer_p3dx_ultrasonicSensor15 connected.\n",
      "\u001b[92m Pioneer_p3dx_ultrasonicSensor16 connected.\n",
      "\u001b[92m Vision sensor connected.\n",
      "\u001b[92m Laser connected.\n",
      "\u001b[92m Left motor connected.\n",
      "\u001b[92m Right motor connected.\n",
      "\u001b[92m Robot connected.\n",
      "Position Initial  : [-2.02534461 -0.82498825  0.13867822]\n",
      "Position Final    : [ 3.01597166 -0.82638425  0.13869734]\n",
      "Position Stop     : [ 3.04362464 -0.82641202  0.13870236]\n",
      "Distance Expected : 5.0\n",
      "Distance Actual   : 5.041316464149043\n",
      "Distance Stop     : 0.027652993302600022\n",
      "Time Expected     : 51.28205128205128\n",
      "Time Actual       : 52.05135893821716\n"
     ]
    }
   ],
   "source": [
    "release(robot)\n",
    "reset()\n",
    "\n",
    "robot = Robot()\n",
    "\n",
    "a = np.array(robot.get_current_position())\n",
    "t0 = time.time()\n",
    "\n",
    "robot.set_right_velocity(w)\n",
    "robot.set_left_velocity(w)\n",
    "\n",
    "while True:\n",
    "    time.sleep(1)\n",
    "    b = np.array(robot.get_current_position())\n",
    "    D = np.linalg.norm(a-b)\n",
    "    if D >= s:\n",
    "        break\n",
    "\n",
    "t1 = time.time()\n",
    "\n",
    "robot.stop()\n",
    "time.sleep(0.5)\n",
    "\n",
    "c = np.array(robot.get_current_position())\n",
    "D_ = np.linalg.norm(b-c)\n",
    "\n",
    "print(\"Position Initial  :\", a)\n",
    "print(\"Position Final    :\", b)\n",
    "print(\"Position Stop     :\", c)\n",
    "print(\"Distance Expected :\", s)\n",
    "print(\"Distance Actual   :\", D)\n",
    "print(\"Distance Stop     :\", D_)\n",
    "print(\"Time Expected     :\", T)\n",
    "print(\"Time Actual       :\", t1 - t0)"
   ]
  },
  {
   "cell_type": "markdown",
   "metadata": {},
   "source": [
    "...\n",
    "\n",
    "*Rotation Analysis*\n",
    "\n",
    "Evaluate the fidelity of the simulation related to expected results from kinematic model.\n",
    "\n",
    "The case is to turn the robot by 90° in the expected time."
   ]
  },
  {
   "cell_type": "code",
   "execution_count": 24,
   "metadata": {},
   "outputs": [
    {
     "data": {
      "text/plain": [
       "30.69094361583874"
      ]
     },
     "execution_count": 24,
     "metadata": {},
     "output_type": "execute_result"
    }
   ],
   "source": [
    "rot = 90 * np.pi / 180 # rads\n",
    "w = 0.1 # rads per second\n",
    "\n",
    "T = (rot * L) / (w * R) # seconds\n",
    "\n",
    "T"
   ]
  },
  {
   "cell_type": "code",
   "execution_count": 25,
   "metadata": {},
   "outputs": [
    {
     "name": "stdout",
     "output_type": "stream",
     "text": [
      "Simulation stopped...\n",
      "Simulation started...\n",
      "Connected to remoteApi server.\n",
      "\u001b[92m Pioneer_p3dx_ultrasonicSensor1 connected.\n",
      "\u001b[92m Pioneer_p3dx_ultrasonicSensor2 connected.\n",
      "\u001b[92m Pioneer_p3dx_ultrasonicSensor3 connected.\n",
      "\u001b[92m Pioneer_p3dx_ultrasonicSensor4 connected.\n",
      "\u001b[92m Pioneer_p3dx_ultrasonicSensor5 connected.\n",
      "\u001b[92m Pioneer_p3dx_ultrasonicSensor6 connected.\n",
      "\u001b[92m Pioneer_p3dx_ultrasonicSensor7 connected.\n",
      "\u001b[92m Pioneer_p3dx_ultrasonicSensor8 connected.\n",
      "\u001b[92m Pioneer_p3dx_ultrasonicSensor9 connected.\n",
      "\u001b[92m Pioneer_p3dx_ultrasonicSensor10 connected.\n",
      "\u001b[92m Pioneer_p3dx_ultrasonicSensor11 connected.\n",
      "\u001b[92m Pioneer_p3dx_ultrasonicSensor12 connected.\n",
      "\u001b[92m Pioneer_p3dx_ultrasonicSensor13 connected.\n",
      "\u001b[92m Pioneer_p3dx_ultrasonicSensor14 connected.\n",
      "\u001b[92m Pioneer_p3dx_ultrasonicSensor15 connected.\n",
      "\u001b[92m Pioneer_p3dx_ultrasonicSensor16 connected.\n",
      "\u001b[92m Vision sensor connected.\n",
      "\u001b[92m Laser connected.\n",
      "\u001b[92m Left motor connected.\n",
      "\u001b[92m Right motor connected.\n",
      "\u001b[92m Robot connected.\n",
      "Gamma Initial : -2.286302151333075e-05\n",
      "Gamma Final   : 1.8108452558517456\n",
      "Rot Expected  : 1.5707963267948966\n",
      "Rot Actual    : 1.810868118873259\n",
      "Time Expected : 30.69094361583874\n",
      "Time Actual   : 30.719824075698853\n"
     ]
    }
   ],
   "source": [
    "release(robot)\n",
    "reset()\n",
    "\n",
    "robot = Robot()\n",
    "\n",
    "a = robot.get_current_orientation()[2]\n",
    "t0 = time.time()\n",
    "\n",
    "#robot.set_velocity(0, -w * R / L)\n",
    "robot.set_right_velocity(w)\n",
    "robot.set_left_velocity(-w)\n",
    "time.sleep(T)\n",
    "\n",
    "t1 = time.time()\n",
    "\n",
    "robot.stop()\n",
    "time.sleep(0.5)\n",
    "\n",
    "b = robot.get_current_orientation()[2]\n",
    "\n",
    "if a >= 0 and b < 0:\n",
    "    D = 2 * np.pi + b - a \n",
    "else:\n",
    "    D = abs(b - a)\n",
    "    \n",
    "print(\"Gamma Initial :\", a)\n",
    "print(\"Gamma Final   :\", b)\n",
    "print(\"Rot Expected  :\", rot)\n",
    "print(\"Rot Actual    :\", D)\n",
    "print(\"Time Expected :\", T)\n",
    "print(\"Time Actual   :\", t1 - t0)"
   ]
  },
  {
   "cell_type": "code",
   "execution_count": 26,
   "metadata": {},
   "outputs": [
    {
     "name": "stdout",
     "output_type": "stream",
     "text": [
      "Simulation stopped...\n",
      "Simulation started...\n",
      "Connected to remoteApi server.\n",
      "\u001b[92m Pioneer_p3dx_ultrasonicSensor1 connected.\n",
      "\u001b[92m Pioneer_p3dx_ultrasonicSensor2 connected.\n",
      "\u001b[92m Pioneer_p3dx_ultrasonicSensor3 connected.\n",
      "\u001b[92m Pioneer_p3dx_ultrasonicSensor4 connected.\n",
      "\u001b[92m Pioneer_p3dx_ultrasonicSensor5 connected.\n",
      "\u001b[92m Pioneer_p3dx_ultrasonicSensor6 connected.\n",
      "\u001b[92m Pioneer_p3dx_ultrasonicSensor7 connected.\n",
      "\u001b[92m Pioneer_p3dx_ultrasonicSensor8 connected.\n",
      "\u001b[92m Pioneer_p3dx_ultrasonicSensor9 connected.\n",
      "\u001b[92m Pioneer_p3dx_ultrasonicSensor10 connected.\n",
      "\u001b[92m Pioneer_p3dx_ultrasonicSensor11 connected.\n",
      "\u001b[92m Pioneer_p3dx_ultrasonicSensor12 connected.\n",
      "\u001b[92m Pioneer_p3dx_ultrasonicSensor13 connected.\n",
      "\u001b[92m Pioneer_p3dx_ultrasonicSensor14 connected.\n",
      "\u001b[92m Pioneer_p3dx_ultrasonicSensor15 connected.\n",
      "\u001b[92m Pioneer_p3dx_ultrasonicSensor16 connected.\n",
      "\u001b[92m Vision sensor connected.\n",
      "\u001b[92m Laser connected.\n",
      "\u001b[92m Left motor connected.\n",
      "\u001b[92m Right motor connected.\n",
      "\u001b[92m Robot connected.\n",
      "Gamma Initial : -2.286302151333075e-05\n",
      "Gamma Final   : 1.5820149183273315\n",
      "Rot Expected  : 1.5707963267948966\n",
      "Rot Actual    : 1.5820377813488449\n",
      "Time Expected : 30.69094361583874\n",
      "Time Actual   : 27.2493155002594\n"
     ]
    }
   ],
   "source": [
    "release(robot)\n",
    "reset()\n",
    "\n",
    "robot = Robot()\n",
    "\n",
    "a = robot.get_current_orientation()[2]\n",
    "t0 = time.time()\n",
    "\n",
    "#robot.set_velocity(0, -w * R / L)\n",
    "robot.set_right_velocity(w)\n",
    "robot.set_left_velocity(-w)\n",
    "\n",
    "while True:\n",
    "    time.sleep(0.1)\n",
    "    b = robot.get_current_orientation()[2]\n",
    "\n",
    "    if a >= 0 and b < 0:\n",
    "        D = 2 * np.pi + b - a \n",
    "    else:\n",
    "        D = abs(b - a)\n",
    "    if D >= rot:\n",
    "        break\n",
    "\n",
    "t1 = time.time()\n",
    "\n",
    "robot.stop()\n",
    "time.sleep(0.5)\n",
    "\n",
    "print(\"Gamma Initial :\", a)\n",
    "print(\"Gamma Final   :\", b)\n",
    "print(\"Rot Expected  :\", rot)\n",
    "print(\"Rot Actual    :\", D)\n",
    "print(\"Time Expected :\", T)\n",
    "print(\"Time Actual   :\", t1 - t0)"
   ]
  },
  {
   "cell_type": "code",
   "execution_count": null,
   "metadata": {},
   "outputs": [],
   "source": []
  }
 ],
 "metadata": {
  "kernelspec": {
   "display_name": "Robotics",
   "language": "python",
   "name": "robotics_python"
  },
  "language_info": {
   "codemirror_mode": {
    "name": "ipython",
    "version": 3
   },
   "file_extension": ".py",
   "mimetype": "text/x-python",
   "name": "python",
   "nbconvert_exporter": "python",
   "pygments_lexer": "ipython3",
   "version": "3.7.5"
  }
 },
 "nbformat": 4,
 "nbformat_minor": 4
}
